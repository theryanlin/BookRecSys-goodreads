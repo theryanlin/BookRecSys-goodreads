{
 "cells": [
  {
   "cell_type": "code",
   "execution_count": null,
   "metadata": {
    "id": "geGqenDzIeC7"
   },
   "outputs": [],
   "source": [
    "from google.colab import drive\n",
    "drive.mount(\"/content/gdrive\")"
   ]
  },
  {
   "cell_type": "code",
   "execution_count": null,
   "metadata": {
    "id": "eefbacc6",
    "outputId": "8ee909e3-7402-4d5b-a855-4d480bd82236"
   },
   "outputs": [
    {
     "name": "stdout",
     "output_type": "stream",
     "text": [
      "System version: 3.6.13 |Anaconda, Inc.| (default, Mar 16 2021, 11:37:27) [MSC v.1916 64 bit (AMD64)]\n",
      "Cornac version: 1.6.0\n",
      "Tensorflow version: 1.15.2\n"
     ]
    }
   ],
   "source": [
    "import os\n",
    "import sys\n",
    "from collections import defaultdict\n",
    "\n",
    "import numpy as np\n",
    "import pandas as pd\n",
    "import seaborn as sns\n",
    "import matplotlib.pyplot as plt\n",
    "%matplotlib inline\n",
    "\n",
    "import cornac\n",
    "from cornac.utils import cache\n",
    "from cornac.datasets import movielens\n",
    "from cornac.eval_methods import RatioSplit, BaseMethod\n",
    "from cornac.hyperopt import SearchDomain, Discrete, BaseSearch, GridSearch, RandomSearch\n",
    "from cornac.models import MF, BPR, WMF, HPF, MMMF, NeuMF\n",
    "import tensorflow as tf\n",
    "\n",
    "\n",
    "print(f\"System version: {sys.version}\")\n",
    "print(f\"Cornac version: {cornac.__version__}\")\n",
    "print(f\"Tensorflow version: {tf.__version__}\")\n",
    "\n",
    "SEED = 42\n",
    "VERBOSE = True"
   ]
  },
  {
   "cell_type": "code",
   "execution_count": null,
   "metadata": {
    "id": "fce60b81"
   },
   "outputs": [],
   "source": [
    "!pip install --quiet cornac==1.6.0 adjustText\n",
    "from adjustText import adjust_text"
   ]
  },
  {
   "cell_type": "code",
   "execution_count": null,
   "metadata": {
    "id": "bfb3eab1"
   },
   "outputs": [],
   "source": [
    "r = pd.read_csv('/content/gdrive/MyDrive/RecSys Project 2/goodbooks-10k-dataset/ratings.csv')  \n",
    "tr = pd.read_csv('/content/gdrive/MyDrive/RecSys Project 2/goodbooks-10k-dataset/to_read.csv')\n",
    "b = pd.read_csv('/content/gdrive/MyDrive/RecSys Project 2/goodbooks-10k-dataset/books.csv')\n",
    "t = pd.read_csv('/content/gdrive/MyDrive/RecSys Project 2/goodbooks-10k-dataset/tags.csv')\n",
    "bt = pd.read_csv('/content/gdrive/MyDrive/RecSys Project 2/goodbooks-10k-dataset/book_tags.csv')\n",
    "book_genre = pd.read_csv('/content/gdrive/MyDrive/RecSys Project 2/goodbooks-10k-dataset/book_genre.csv')"
   ]
  },
  {
   "cell_type": "markdown",
   "metadata": {
    "id": "6fd771ef"
   },
   "source": [
    "#### Read data and Ratio split"
   ]
  },
  {
   "cell_type": "code",
   "execution_count": null,
   "metadata": {
    "id": "95bc83c4"
   },
   "outputs": [],
   "source": [
    "from cornac.data import Reader\n",
    "\n",
    "reader = Reader()\n",
    "rating = reader.read('/content/gdrive/MyDrive/RecSys Project 2/goodbooks-10k-dataset/ratings.csv', sep=',', skip_lines=1)"
   ]
  },
  {
   "cell_type": "code",
   "execution_count": null,
   "metadata": {
    "id": "6a24a6c2",
    "outputId": "54057526-135c-4e43-fc63-6b5ed760950a"
   },
   "outputs": [
    {
     "name": "stdout",
     "output_type": "stream",
     "text": [
      "rating_threshold = 3.0\n",
      "exclude_unknowns = True\n",
      "---\n",
      "Training data:\n",
      "Number of users = 53424\n",
      "Number of items = 10000\n",
      "Number of ratings = 4781183\n",
      "Max rating = 5.0\n",
      "Min rating = 1.0\n",
      "Global mean = 3.9\n",
      "---\n",
      "Test data:\n",
      "Number of users = 53408\n",
      "Number of items = 9999\n",
      "Number of ratings = 597648\n",
      "Number of unknown users = 0\n",
      "Number of unknown items = 0\n",
      "---\n",
      "Validation data:\n",
      "Number of users = 53389\n",
      "Number of items = 9999\n",
      "Number of ratings = 597648\n",
      "---\n",
      "Total users = 53424\n",
      "Total items = 10000\n"
     ]
    }
   ],
   "source": [
    "rs = RatioSplit(\n",
    "    data=rating,\n",
    "    test_size = 0.1,\n",
    "    val_size = 0.1,\n",
    "    exclude_unknowns=True,\n",
    "    verbose=VERBOSE,\n",
    "    seed=SEED,\n",
    "    rating_threshold = 3\n",
    ")"
   ]
  },
  {
   "cell_type": "markdown",
   "metadata": {
    "id": "00f0b30b"
   },
   "source": [
    "#### WMF and BPR "
   ]
  },
  {
   "cell_type": "code",
   "execution_count": null,
   "metadata": {
    "colab": {
     "referenced_widgets": [
      "53757c2b1df94e0c93de448d040f6d98",
      "66fa1a3909be4425b23b05aeb54497c3",
      "32ba01256a764c57acd7f2dce931a816",
      "223236e9a10d42a59b97879888b06b7c",
      "21b3622605cd45b19e686334d512abc0",
      "be7dac72f8fa44b58e5dc5bc8a7d5e95",
      "50eb28240bd74900a4b2174259ad317b",
      "71b2842d422047a2a45f0729d3cc5804",
      "ad2fb41dadc14432bae64c7b7abe9f0e",
      "3179c3cfaf7341e59b98cf25f25153ea",
      "c63631c185bb4f6ebce006dd1db88cf6",
      "c7e034d09b9c4003994a868ff6566145",
      "cdd8c65ea2f1418280bc375086da0733",
      "2d51033b387d4884b79ed9934f759615",
      "9bd9c392d5494386bf8556f3de0130e8",
      "576505070d3048169101cc0e678a37ac",
      "44ed485cf84b40538914c7dd0930759d",
      "3f9e656fef164e66a92563117119d872",
      "8f874c90c920465a9fc7a1d2386d8616",
      "5c56317317494459a8132845c922b531",
      "792cd1556478403ca66854103e26ffaf",
      "005c6d81ebd74c219dad38dd6d5cb0bc",
      "0516637b58fb491aaba46d5bf4a7d2e1",
      "13ed03fdd6024028a99ba08019d39e68",
      "8e120fb0b87947b4b7ce13fb899bcb14",
      "8bbe9b1571a14cc09941cb185d2e4c55",
      "568ee178d4a44bf7893817ca3b426356",
      "a64af24e0ffa40fd9ffcebadfb22db3e",
      "cd25c4d845254e1089ca8601eeeb870b",
      "891235acfc9340e0bc39234a39f26b79",
      "11c9f1c9733b4f9ea542b9fb12aff7ff",
      "8399c9abfbbb4a73ada99189f3bbc1e4",
      "deb72a69db3b4453bf5c384575628f01",
      "ad89b9dab4eb436983df7e6169b51db9",
      "1cac93efeb99477494f9bb004ff65b0c",
      "7100b5fd1db442b5bad884f66eeb344d",
      "2466934d4963470da6fd8fe390823f81",
      "9d2ebc86532740e590044a2f64fbffcb",
      "2a986f1c022b4f1086048c72bdc9ffdb",
      "70e49aa12ed74727bc276d28114d3746",
      "b6a9b72a803d44b09a3ba5bb4604a932",
      "91d99ce06cc54f108542d2af928e7cf8",
      "351b0cadcaca424ea40cb8c1cc4c2627",
      "75f52541f1804661ab43bd11adfc59ea",
      "eddd0199787b4cfd848391cbc8a2702d",
      "1232e24240604ee699e5d26e8764dbcf",
      "909e678086294f43a3ae0c621d0884a0",
      "f010470b0f294721b906f5221a2cf0ba",
      "c51ba9beca374972b77f217b9c2aa8a8",
      "fb00bb08c10540e6bc6fa010c3f70004",
      "873fde9b74ab4fefab583f9de86abae4",
      "085d9eb2047a4fb8916d3ff62592422a",
      "278c55131d88488ea9e9afb573b066ea",
      "cabbc330e14a458393da184bb0e2a77c",
      "95bdc44918b44585ac17656a6225740d",
      "c4e07345c6f145be9e9e20e10ac3bc0e",
      "bb8f264fd05e46e6bbc0baf38d5d6e4a",
      "6de854504b3845419a293192751a3c4b",
      "341f87ca1939406ebcb9dea221030e82",
      "deaae8edc3164cc0a0b15f7c574afb81",
      "7f6645bac5af4f07b5a7404b526543d4",
      "e6ed9097aba549bfbec0c1b1dfad162a",
      "9fbbca35ec2a40c093fa8c7334d00d57",
      "b62aa4cd75d8483a95c05c6438749511",
      "ff35c65a9770488daf887f6777d0a5af",
      "7f568d87aaa942bf93aa1310a9c2224d",
      "5eb39e2f392d4d63b992e1c4ec139a22",
      "c1ea6afcb9464445a657a2df5af4ae89",
      "8ccb8e5a41de4cacb945a38d88928ff4"
     ]
    },
    "id": "23fdd3e9",
    "outputId": "e47a75cd-d121-4aee-e772-fee1812df97d"
   },
   "outputs": [
    {
     "name": "stdout",
     "output_type": "stream",
     "text": [
      "\n",
      "[GridSearch_BPR(K=50)] Training started!\n",
      "Evaluating: {'k': 100, 'lambda_reg': 0.001, 'learning_rate': 0.01, 'max_iter': 100}\n"
     ]
    },
    {
     "data": {
      "application/vnd.jupyter.widget-view+json": {
       "model_id": "53757c2b1df94e0c93de448d040f6d98",
       "version_major": 2,
       "version_minor": 0
      },
      "text/plain": [
       "  0%|          | 0/100 [00:00<?, ?it/s]"
      ]
     },
     "metadata": {
      "tags": []
     },
     "output_type": "display_data"
    },
    {
     "name": "stdout",
     "output_type": "stream",
     "text": [
      "Optimization finished!\n",
      "Evaluating: {'k': 100, 'lambda_reg': 0.001, 'learning_rate': 0.01, 'max_iter': 200}\n"
     ]
    },
    {
     "data": {
      "application/vnd.jupyter.widget-view+json": {
       "model_id": "66fa1a3909be4425b23b05aeb54497c3",
       "version_major": 2,
       "version_minor": 0
      },
      "text/plain": [
       "  0%|          | 0/200 [00:00<?, ?it/s]"
      ]
     },
     "metadata": {
      "tags": []
     },
     "output_type": "display_data"
    },
    {
     "name": "stdout",
     "output_type": "stream",
     "text": [
      "Optimization finished!\n",
      "Evaluating: {'k': 100, 'lambda_reg': 0.001, 'learning_rate': 0.01, 'max_iter': 300}\n"
     ]
    },
    {
     "data": {
      "application/vnd.jupyter.widget-view+json": {
       "model_id": "32ba01256a764c57acd7f2dce931a816",
       "version_major": 2,
       "version_minor": 0
      },
      "text/plain": [
       "  0%|          | 0/300 [00:00<?, ?it/s]"
      ]
     },
     "metadata": {
      "tags": []
     },
     "output_type": "display_data"
    },
    {
     "name": "stdout",
     "output_type": "stream",
     "text": [
      "Optimization finished!\n",
      "Evaluating: {'k': 100, 'lambda_reg': 0.001, 'learning_rate': 0.01, 'max_iter': 400}\n"
     ]
    },
    {
     "data": {
      "application/vnd.jupyter.widget-view+json": {
       "model_id": "223236e9a10d42a59b97879888b06b7c",
       "version_major": 2,
       "version_minor": 0
      },
      "text/plain": [
       "  0%|          | 0/400 [00:00<?, ?it/s]"
      ]
     },
     "metadata": {
      "tags": []
     },
     "output_type": "display_data"
    },
    {
     "name": "stdout",
     "output_type": "stream",
     "text": [
      "Optimization finished!\n",
      "Evaluating: {'k': 100, 'lambda_reg': 0.001, 'learning_rate': 0.01, 'max_iter': 500}\n"
     ]
    },
    {
     "data": {
      "application/vnd.jupyter.widget-view+json": {
       "model_id": "21b3622605cd45b19e686334d512abc0",
       "version_major": 2,
       "version_minor": 0
      },
      "text/plain": [
       "  0%|          | 0/500 [00:00<?, ?it/s]"
      ]
     },
     "metadata": {
      "tags": []
     },
     "output_type": "display_data"
    },
    {
     "name": "stdout",
     "output_type": "stream",
     "text": [
      "Optimization finished!\n",
      "Evaluating: {'k': 100, 'lambda_reg': 0.001, 'learning_rate': 0.01, 'max_iter': 600}\n"
     ]
    },
    {
     "data": {
      "application/vnd.jupyter.widget-view+json": {
       "model_id": "be7dac72f8fa44b58e5dc5bc8a7d5e95",
       "version_major": 2,
       "version_minor": 0
      },
      "text/plain": [
       "  0%|          | 0/600 [00:00<?, ?it/s]"
      ]
     },
     "metadata": {
      "tags": []
     },
     "output_type": "display_data"
    },
    {
     "name": "stdout",
     "output_type": "stream",
     "text": [
      "Optimization finished!\n",
      "Evaluating: {'k': 100, 'lambda_reg': 0.001, 'learning_rate': 0.01, 'max_iter': 700}\n"
     ]
    },
    {
     "data": {
      "application/vnd.jupyter.widget-view+json": {
       "model_id": "50eb28240bd74900a4b2174259ad317b",
       "version_major": 2,
       "version_minor": 0
      },
      "text/plain": [
       "  0%|          | 0/700 [00:00<?, ?it/s]"
      ]
     },
     "metadata": {
      "tags": []
     },
     "output_type": "display_data"
    },
    {
     "name": "stdout",
     "output_type": "stream",
     "text": [
      "Optimization finished!\n",
      "Evaluating: {'k': 100, 'lambda_reg': 0.001, 'learning_rate': 0.01, 'max_iter': 800}\n"
     ]
    },
    {
     "data": {
      "application/vnd.jupyter.widget-view+json": {
       "model_id": "71b2842d422047a2a45f0729d3cc5804",
       "version_major": 2,
       "version_minor": 0
      },
      "text/plain": [
       "  0%|          | 0/800 [00:00<?, ?it/s]"
      ]
     },
     "metadata": {
      "tags": []
     },
     "output_type": "display_data"
    },
    {
     "name": "stdout",
     "output_type": "stream",
     "text": [
      "Optimization finished!\n",
      "Evaluating: {'k': 100, 'lambda_reg': 0.001, 'learning_rate': 0.01, 'max_iter': 900}\n"
     ]
    },
    {
     "data": {
      "application/vnd.jupyter.widget-view+json": {
       "model_id": "ad2fb41dadc14432bae64c7b7abe9f0e",
       "version_major": 2,
       "version_minor": 0
      },
      "text/plain": [
       "  0%|          | 0/900 [00:00<?, ?it/s]"
      ]
     },
     "metadata": {
      "tags": []
     },
     "output_type": "display_data"
    },
    {
     "name": "stdout",
     "output_type": "stream",
     "text": [
      "Optimization finished!\n",
      "Evaluating: {'k': 100, 'lambda_reg': 0.001, 'learning_rate': 0.01, 'max_iter': 1000}\n"
     ]
    },
    {
     "data": {
      "application/vnd.jupyter.widget-view+json": {
       "model_id": "3179c3cfaf7341e59b98cf25f25153ea",
       "version_major": 2,
       "version_minor": 0
      },
      "text/plain": [
       "  0%|          | 0/1000 [00:00<?, ?it/s]"
      ]
     },
     "metadata": {
      "tags": []
     },
     "output_type": "display_data"
    },
    {
     "name": "stdout",
     "output_type": "stream",
     "text": [
      "Optimization finished!\n",
      "Evaluating: {'k': 100, 'lambda_reg': 0.001, 'learning_rate': 0.1, 'max_iter': 100}\n"
     ]
    },
    {
     "data": {
      "application/vnd.jupyter.widget-view+json": {
       "model_id": "c63631c185bb4f6ebce006dd1db88cf6",
       "version_major": 2,
       "version_minor": 0
      },
      "text/plain": [
       "  0%|          | 0/100 [00:00<?, ?it/s]"
      ]
     },
     "metadata": {
      "tags": []
     },
     "output_type": "display_data"
    },
    {
     "name": "stdout",
     "output_type": "stream",
     "text": [
      "Optimization finished!\n",
      "Evaluating: {'k': 100, 'lambda_reg': 0.001, 'learning_rate': 0.1, 'max_iter': 200}\n"
     ]
    },
    {
     "data": {
      "application/vnd.jupyter.widget-view+json": {
       "model_id": "c7e034d09b9c4003994a868ff6566145",
       "version_major": 2,
       "version_minor": 0
      },
      "text/plain": [
       "  0%|          | 0/200 [00:00<?, ?it/s]"
      ]
     },
     "metadata": {
      "tags": []
     },
     "output_type": "display_data"
    },
    {
     "name": "stdout",
     "output_type": "stream",
     "text": [
      "Optimization finished!\n",
      "Evaluating: {'k': 100, 'lambda_reg': 0.001, 'learning_rate': 0.1, 'max_iter': 300}\n"
     ]
    },
    {
     "data": {
      "application/vnd.jupyter.widget-view+json": {
       "model_id": "cdd8c65ea2f1418280bc375086da0733",
       "version_major": 2,
       "version_minor": 0
      },
      "text/plain": [
       "  0%|          | 0/300 [00:00<?, ?it/s]"
      ]
     },
     "metadata": {
      "tags": []
     },
     "output_type": "display_data"
    },
    {
     "name": "stdout",
     "output_type": "stream",
     "text": [
      "Optimization finished!\n",
      "Evaluating: {'k': 100, 'lambda_reg': 0.001, 'learning_rate': 0.1, 'max_iter': 400}\n"
     ]
    },
    {
     "data": {
      "application/vnd.jupyter.widget-view+json": {
       "model_id": "2d51033b387d4884b79ed9934f759615",
       "version_major": 2,
       "version_minor": 0
      },
      "text/plain": [
       "  0%|          | 0/400 [00:00<?, ?it/s]"
      ]
     },
     "metadata": {
      "tags": []
     },
     "output_type": "display_data"
    },
    {
     "name": "stdout",
     "output_type": "stream",
     "text": [
      "Optimization finished!\n",
      "Evaluating: {'k': 100, 'lambda_reg': 0.001, 'learning_rate': 0.1, 'max_iter': 500}\n"
     ]
    },
    {
     "data": {
      "application/vnd.jupyter.widget-view+json": {
       "model_id": "9bd9c392d5494386bf8556f3de0130e8",
       "version_major": 2,
       "version_minor": 0
      },
      "text/plain": [
       "  0%|          | 0/500 [00:06<?, ?it/s]"
      ]
     },
     "metadata": {
      "tags": []
     },
     "output_type": "display_data"
    },
    {
     "name": "stdout",
     "output_type": "stream",
     "text": [
      "Optimization finished!\n",
      "Evaluating: {'k': 100, 'lambda_reg': 0.001, 'learning_rate': 0.1, 'max_iter': 600}\n"
     ]
    },
    {
     "data": {
      "application/vnd.jupyter.widget-view+json": {
       "model_id": "576505070d3048169101cc0e678a37ac",
       "version_major": 2,
       "version_minor": 0
      },
      "text/plain": [
       "  0%|          | 0/600 [00:00<?, ?it/s]"
      ]
     },
     "metadata": {
      "tags": []
     },
     "output_type": "display_data"
    },
    {
     "name": "stdout",
     "output_type": "stream",
     "text": [
      "Optimization finished!\n",
      "Evaluating: {'k': 100, 'lambda_reg': 0.001, 'learning_rate': 0.1, 'max_iter': 700}\n"
     ]
    },
    {
     "data": {
      "application/vnd.jupyter.widget-view+json": {
       "model_id": "44ed485cf84b40538914c7dd0930759d",
       "version_major": 2,
       "version_minor": 0
      },
      "text/plain": [
       "  0%|          | 0/700 [00:00<?, ?it/s]"
      ]
     },
     "metadata": {
      "tags": []
     },
     "output_type": "display_data"
    },
    {
     "name": "stdout",
     "output_type": "stream",
     "text": [
      "Optimization finished!\n",
      "Evaluating: {'k': 100, 'lambda_reg': 0.001, 'learning_rate': 0.1, 'max_iter': 800}\n"
     ]
    },
    {
     "data": {
      "application/vnd.jupyter.widget-view+json": {
       "model_id": "3f9e656fef164e66a92563117119d872",
       "version_major": 2,
       "version_minor": 0
      },
      "text/plain": [
       "  0%|          | 0/800 [00:00<?, ?it/s]"
      ]
     },
     "metadata": {
      "tags": []
     },
     "output_type": "display_data"
    },
    {
     "name": "stdout",
     "output_type": "stream",
     "text": [
      "Optimization finished!\n",
      "Evaluating: {'k': 100, 'lambda_reg': 0.001, 'learning_rate': 0.1, 'max_iter': 900}\n"
     ]
    },
    {
     "data": {
      "application/vnd.jupyter.widget-view+json": {
       "model_id": "8f874c90c920465a9fc7a1d2386d8616",
       "version_major": 2,
       "version_minor": 0
      },
      "text/plain": [
       "  0%|          | 0/900 [00:00<?, ?it/s]"
      ]
     },
     "metadata": {
      "tags": []
     },
     "output_type": "display_data"
    },
    {
     "name": "stdout",
     "output_type": "stream",
     "text": [
      "Optimization finished!\n",
      "Evaluating: {'k': 100, 'lambda_reg': 0.001, 'learning_rate': 0.1, 'max_iter': 1000}\n"
     ]
    },
    {
     "data": {
      "application/vnd.jupyter.widget-view+json": {
       "model_id": "5c56317317494459a8132845c922b531",
       "version_major": 2,
       "version_minor": 0
      },
      "text/plain": [
       "  0%|          | 0/1000 [00:00<?, ?it/s]"
      ]
     },
     "metadata": {
      "tags": []
     },
     "output_type": "display_data"
    },
    {
     "name": "stdout",
     "output_type": "stream",
     "text": [
      "Optimization finished!\n",
      "Evaluating: {'k': 100, 'lambda_reg': 0.001, 'learning_rate': 0.5, 'max_iter': 100}\n"
     ]
    },
    {
     "data": {
      "application/vnd.jupyter.widget-view+json": {
       "model_id": "792cd1556478403ca66854103e26ffaf",
       "version_major": 2,
       "version_minor": 0
      },
      "text/plain": [
       "  0%|          | 0/100 [00:00<?, ?it/s]"
      ]
     },
     "metadata": {
      "tags": []
     },
     "output_type": "display_data"
    },
    {
     "name": "stdout",
     "output_type": "stream",
     "text": [
      "Optimization finished!\n",
      "Evaluating: {'k': 100, 'lambda_reg': 0.001, 'learning_rate': 0.5, 'max_iter': 200}\n"
     ]
    },
    {
     "data": {
      "application/vnd.jupyter.widget-view+json": {
       "model_id": "005c6d81ebd74c219dad38dd6d5cb0bc",
       "version_major": 2,
       "version_minor": 0
      },
      "text/plain": [
       "  0%|          | 0/200 [00:00<?, ?it/s]"
      ]
     },
     "metadata": {
      "tags": []
     },
     "output_type": "display_data"
    },
    {
     "name": "stdout",
     "output_type": "stream",
     "text": [
      "Optimization finished!\n",
      "Evaluating: {'k': 100, 'lambda_reg': 0.001, 'learning_rate': 0.5, 'max_iter': 300}\n"
     ]
    },
    {
     "data": {
      "application/vnd.jupyter.widget-view+json": {
       "model_id": "0516637b58fb491aaba46d5bf4a7d2e1",
       "version_major": 2,
       "version_minor": 0
      },
      "text/plain": [
       "  0%|          | 0/300 [00:00<?, ?it/s]"
      ]
     },
     "metadata": {
      "tags": []
     },
     "output_type": "display_data"
    },
    {
     "name": "stdout",
     "output_type": "stream",
     "text": [
      "Optimization finished!\n",
      "Evaluating: {'k': 100, 'lambda_reg': 0.001, 'learning_rate': 0.5, 'max_iter': 400}\n"
     ]
    },
    {
     "data": {
      "application/vnd.jupyter.widget-view+json": {
       "model_id": "13ed03fdd6024028a99ba08019d39e68",
       "version_major": 2,
       "version_minor": 0
      },
      "text/plain": [
       "  0%|          | 0/400 [00:00<?, ?it/s]"
      ]
     },
     "metadata": {
      "tags": []
     },
     "output_type": "display_data"
    },
    {
     "name": "stdout",
     "output_type": "stream",
     "text": [
      "Optimization finished!\n",
      "Evaluating: {'k': 100, 'lambda_reg': 0.001, 'learning_rate': 0.5, 'max_iter': 500}\n"
     ]
    },
    {
     "data": {
      "application/vnd.jupyter.widget-view+json": {
       "model_id": "8e120fb0b87947b4b7ce13fb899bcb14",
       "version_major": 2,
       "version_minor": 0
      },
      "text/plain": [
       "  0%|          | 0/500 [00:00<?, ?it/s]"
      ]
     },
     "metadata": {
      "tags": []
     },
     "output_type": "display_data"
    },
    {
     "name": "stdout",
     "output_type": "stream",
     "text": [
      "Optimization finished!\n",
      "Evaluating: {'k': 100, 'lambda_reg': 0.001, 'learning_rate': 0.5, 'max_iter': 600}\n"
     ]
    },
    {
     "data": {
      "application/vnd.jupyter.widget-view+json": {
       "model_id": "8bbe9b1571a14cc09941cb185d2e4c55",
       "version_major": 2,
       "version_minor": 0
      },
      "text/plain": [
       "  0%|          | 0/600 [00:00<?, ?it/s]"
      ]
     },
     "metadata": {
      "tags": []
     },
     "output_type": "display_data"
    },
    {
     "name": "stdout",
     "output_type": "stream",
     "text": [
      "Optimization finished!\n",
      "Evaluating: {'k': 100, 'lambda_reg': 0.001, 'learning_rate': 0.5, 'max_iter': 700}\n"
     ]
    },
    {
     "data": {
      "application/vnd.jupyter.widget-view+json": {
       "model_id": "568ee178d4a44bf7893817ca3b426356",
       "version_major": 2,
       "version_minor": 0
      },
      "text/plain": [
       "  0%|          | 0/700 [00:00<?, ?it/s]"
      ]
     },
     "metadata": {
      "tags": []
     },
     "output_type": "display_data"
    },
    {
     "name": "stdout",
     "output_type": "stream",
     "text": [
      "Optimization finished!\n",
      "Evaluating: {'k': 100, 'lambda_reg': 0.001, 'learning_rate': 0.5, 'max_iter': 800}\n"
     ]
    },
    {
     "data": {
      "application/vnd.jupyter.widget-view+json": {
       "model_id": "a64af24e0ffa40fd9ffcebadfb22db3e",
       "version_major": 2,
       "version_minor": 0
      },
      "text/plain": [
       "  0%|          | 0/800 [00:00<?, ?it/s]"
      ]
     },
     "metadata": {
      "tags": []
     },
     "output_type": "display_data"
    },
    {
     "name": "stdout",
     "output_type": "stream",
     "text": [
      "Optimization finished!\n",
      "Evaluating: {'k': 100, 'lambda_reg': 0.001, 'learning_rate': 0.5, 'max_iter': 900}\n"
     ]
    },
    {
     "data": {
      "application/vnd.jupyter.widget-view+json": {
       "model_id": "cd25c4d845254e1089ca8601eeeb870b",
       "version_major": 2,
       "version_minor": 0
      },
      "text/plain": [
       "  0%|          | 0/900 [00:00<?, ?it/s]"
      ]
     },
     "metadata": {
      "tags": []
     },
     "output_type": "display_data"
    },
    {
     "name": "stdout",
     "output_type": "stream",
     "text": [
      "Optimization finished!\n",
      "Evaluating: {'k': 100, 'lambda_reg': 0.001, 'learning_rate': 0.5, 'max_iter': 1000}\n"
     ]
    },
    {
     "data": {
      "application/vnd.jupyter.widget-view+json": {
       "model_id": "891235acfc9340e0bc39234a39f26b79",
       "version_major": 2,
       "version_minor": 0
      },
      "text/plain": [
       "  0%|          | 0/1000 [00:00<?, ?it/s]"
      ]
     },
     "metadata": {
      "tags": []
     },
     "output_type": "display_data"
    },
    {
     "name": "stdout",
     "output_type": "stream",
     "text": [
      "Optimization finished!\n",
      "Evaluating: {'k': 100, 'lambda_reg': 0.01, 'learning_rate': 0.01, 'max_iter': 100}\n"
     ]
    },
    {
     "data": {
      "application/vnd.jupyter.widget-view+json": {
       "model_id": "11c9f1c9733b4f9ea542b9fb12aff7ff",
       "version_major": 2,
       "version_minor": 0
      },
      "text/plain": [
       "  0%|          | 0/100 [00:00<?, ?it/s]"
      ]
     },
     "metadata": {
      "tags": []
     },
     "output_type": "display_data"
    },
    {
     "name": "stdout",
     "output_type": "stream",
     "text": [
      "Optimization finished!\n",
      "Evaluating: {'k': 100, 'lambda_reg': 0.01, 'learning_rate': 0.01, 'max_iter': 200}\n"
     ]
    },
    {
     "data": {
      "application/vnd.jupyter.widget-view+json": {
       "model_id": "8399c9abfbbb4a73ada99189f3bbc1e4",
       "version_major": 2,
       "version_minor": 0
      },
      "text/plain": [
       "  0%|          | 0/200 [00:00<?, ?it/s]"
      ]
     },
     "metadata": {
      "tags": []
     },
     "output_type": "display_data"
    },
    {
     "name": "stdout",
     "output_type": "stream",
     "text": [
      "Optimization finished!\n",
      "Evaluating: {'k': 100, 'lambda_reg': 0.01, 'learning_rate': 0.01, 'max_iter': 300}\n"
     ]
    },
    {
     "data": {
      "application/vnd.jupyter.widget-view+json": {
       "model_id": "deb72a69db3b4453bf5c384575628f01",
       "version_major": 2,
       "version_minor": 0
      },
      "text/plain": [
       "  0%|          | 0/300 [00:00<?, ?it/s]"
      ]
     },
     "metadata": {
      "tags": []
     },
     "output_type": "display_data"
    },
    {
     "name": "stdout",
     "output_type": "stream",
     "text": [
      "Optimization finished!\n",
      "Evaluating: {'k': 100, 'lambda_reg': 0.01, 'learning_rate': 0.01, 'max_iter': 400}\n"
     ]
    },
    {
     "data": {
      "application/vnd.jupyter.widget-view+json": {
       "model_id": "ad89b9dab4eb436983df7e6169b51db9",
       "version_major": 2,
       "version_minor": 0
      },
      "text/plain": [
       "  0%|          | 0/400 [00:00<?, ?it/s]"
      ]
     },
     "metadata": {
      "tags": []
     },
     "output_type": "display_data"
    },
    {
     "name": "stdout",
     "output_type": "stream",
     "text": [
      "Optimization finished!\n",
      "Evaluating: {'k': 100, 'lambda_reg': 0.01, 'learning_rate': 0.01, 'max_iter': 500}\n"
     ]
    },
    {
     "data": {
      "application/vnd.jupyter.widget-view+json": {
       "model_id": "1cac93efeb99477494f9bb004ff65b0c",
       "version_major": 2,
       "version_minor": 0
      },
      "text/plain": [
       "  0%|          | 0/500 [00:00<?, ?it/s]"
      ]
     },
     "metadata": {
      "tags": []
     },
     "output_type": "display_data"
    },
    {
     "name": "stdout",
     "output_type": "stream",
     "text": [
      "Optimization finished!\n",
      "Evaluating: {'k': 100, 'lambda_reg': 0.01, 'learning_rate': 0.01, 'max_iter': 600}\n"
     ]
    },
    {
     "data": {
      "application/vnd.jupyter.widget-view+json": {
       "model_id": "7100b5fd1db442b5bad884f66eeb344d",
       "version_major": 2,
       "version_minor": 0
      },
      "text/plain": [
       "  0%|          | 0/600 [00:00<?, ?it/s]"
      ]
     },
     "metadata": {
      "tags": []
     },
     "output_type": "display_data"
    },
    {
     "name": "stdout",
     "output_type": "stream",
     "text": [
      "Optimization finished!\n",
      "Evaluating: {'k': 100, 'lambda_reg': 0.01, 'learning_rate': 0.01, 'max_iter': 700}\n"
     ]
    },
    {
     "data": {
      "application/vnd.jupyter.widget-view+json": {
       "model_id": "2466934d4963470da6fd8fe390823f81",
       "version_major": 2,
       "version_minor": 0
      },
      "text/plain": [
       "  0%|          | 0/700 [00:00<?, ?it/s]"
      ]
     },
     "metadata": {
      "tags": []
     },
     "output_type": "display_data"
    },
    {
     "name": "stdout",
     "output_type": "stream",
     "text": [
      "Optimization finished!\n",
      "Evaluating: {'k': 100, 'lambda_reg': 0.01, 'learning_rate': 0.01, 'max_iter': 800}\n"
     ]
    },
    {
     "data": {
      "application/vnd.jupyter.widget-view+json": {
       "model_id": "9d2ebc86532740e590044a2f64fbffcb",
       "version_major": 2,
       "version_minor": 0
      },
      "text/plain": [
       "  0%|          | 0/800 [00:00<?, ?it/s]"
      ]
     },
     "metadata": {
      "tags": []
     },
     "output_type": "display_data"
    },
    {
     "name": "stdout",
     "output_type": "stream",
     "text": [
      "Optimization finished!\n",
      "Evaluating: {'k': 100, 'lambda_reg': 0.01, 'learning_rate': 0.01, 'max_iter': 900}\n"
     ]
    },
    {
     "data": {
      "application/vnd.jupyter.widget-view+json": {
       "model_id": "2a986f1c022b4f1086048c72bdc9ffdb",
       "version_major": 2,
       "version_minor": 0
      },
      "text/plain": [
       "  0%|          | 0/900 [00:00<?, ?it/s]"
      ]
     },
     "metadata": {
      "tags": []
     },
     "output_type": "display_data"
    },
    {
     "name": "stdout",
     "output_type": "stream",
     "text": [
      "Optimization finished!\n",
      "Evaluating: {'k': 100, 'lambda_reg': 0.01, 'learning_rate': 0.01, 'max_iter': 1000}\n"
     ]
    },
    {
     "data": {
      "application/vnd.jupyter.widget-view+json": {
       "model_id": "70e49aa12ed74727bc276d28114d3746",
       "version_major": 2,
       "version_minor": 0
      },
      "text/plain": [
       "  0%|          | 0/1000 [00:00<?, ?it/s]"
      ]
     },
     "metadata": {
      "tags": []
     },
     "output_type": "display_data"
    },
    {
     "name": "stdout",
     "output_type": "stream",
     "text": [
      "Optimization finished!\n",
      "Evaluating: {'k': 100, 'lambda_reg': 0.01, 'learning_rate': 0.1, 'max_iter': 100}\n"
     ]
    },
    {
     "data": {
      "application/vnd.jupyter.widget-view+json": {
       "model_id": "b6a9b72a803d44b09a3ba5bb4604a932",
       "version_major": 2,
       "version_minor": 0
      },
      "text/plain": [
       "  0%|          | 0/100 [00:00<?, ?it/s]"
      ]
     },
     "metadata": {
      "tags": []
     },
     "output_type": "display_data"
    },
    {
     "name": "stdout",
     "output_type": "stream",
     "text": [
      "Optimization finished!\n",
      "Evaluating: {'k': 100, 'lambda_reg': 0.01, 'learning_rate': 0.1, 'max_iter': 200}\n"
     ]
    },
    {
     "data": {
      "application/vnd.jupyter.widget-view+json": {
       "model_id": "91d99ce06cc54f108542d2af928e7cf8",
       "version_major": 2,
       "version_minor": 0
      },
      "text/plain": [
       "  0%|          | 0/200 [00:00<?, ?it/s]"
      ]
     },
     "metadata": {
      "tags": []
     },
     "output_type": "display_data"
    },
    {
     "name": "stdout",
     "output_type": "stream",
     "text": [
      "Optimization finished!\n",
      "Evaluating: {'k': 100, 'lambda_reg': 0.01, 'learning_rate': 0.1, 'max_iter': 300}\n"
     ]
    },
    {
     "data": {
      "application/vnd.jupyter.widget-view+json": {
       "model_id": "351b0cadcaca424ea40cb8c1cc4c2627",
       "version_major": 2,
       "version_minor": 0
      },
      "text/plain": [
       "  0%|          | 0/300 [00:00<?, ?it/s]"
      ]
     },
     "metadata": {
      "tags": []
     },
     "output_type": "display_data"
    },
    {
     "name": "stdout",
     "output_type": "stream",
     "text": [
      "Optimization finished!\n",
      "Evaluating: {'k': 100, 'lambda_reg': 0.01, 'learning_rate': 0.1, 'max_iter': 400}\n"
     ]
    },
    {
     "data": {
      "application/vnd.jupyter.widget-view+json": {
       "model_id": "75f52541f1804661ab43bd11adfc59ea",
       "version_major": 2,
       "version_minor": 0
      },
      "text/plain": [
       "  0%|          | 0/400 [00:00<?, ?it/s]"
      ]
     },
     "metadata": {
      "tags": []
     },
     "output_type": "display_data"
    },
    {
     "name": "stdout",
     "output_type": "stream",
     "text": [
      "Optimization finished!\n",
      "Evaluating: {'k': 100, 'lambda_reg': 0.01, 'learning_rate': 0.1, 'max_iter': 500}\n"
     ]
    },
    {
     "data": {
      "application/vnd.jupyter.widget-view+json": {
       "model_id": "eddd0199787b4cfd848391cbc8a2702d",
       "version_major": 2,
       "version_minor": 0
      },
      "text/plain": [
       "  0%|          | 0/500 [00:00<?, ?it/s]"
      ]
     },
     "metadata": {
      "tags": []
     },
     "output_type": "display_data"
    },
    {
     "name": "stdout",
     "output_type": "stream",
     "text": [
      "Optimization finished!\n",
      "Evaluating: {'k': 100, 'lambda_reg': 0.01, 'learning_rate': 0.1, 'max_iter': 600}\n"
     ]
    },
    {
     "data": {
      "application/vnd.jupyter.widget-view+json": {
       "model_id": "1232e24240604ee699e5d26e8764dbcf",
       "version_major": 2,
       "version_minor": 0
      },
      "text/plain": [
       "  0%|          | 0/600 [00:00<?, ?it/s]"
      ]
     },
     "metadata": {
      "tags": []
     },
     "output_type": "display_data"
    },
    {
     "name": "stdout",
     "output_type": "stream",
     "text": [
      "Optimization finished!\n",
      "Evaluating: {'k': 100, 'lambda_reg': 0.01, 'learning_rate': 0.1, 'max_iter': 700}\n"
     ]
    },
    {
     "data": {
      "application/vnd.jupyter.widget-view+json": {
       "model_id": "909e678086294f43a3ae0c621d0884a0",
       "version_major": 2,
       "version_minor": 0
      },
      "text/plain": [
       "  0%|          | 0/700 [00:00<?, ?it/s]"
      ]
     },
     "metadata": {
      "tags": []
     },
     "output_type": "display_data"
    },
    {
     "name": "stdout",
     "output_type": "stream",
     "text": [
      "Optimization finished!\n",
      "Evaluating: {'k': 100, 'lambda_reg': 0.01, 'learning_rate': 0.1, 'max_iter': 800}\n"
     ]
    },
    {
     "data": {
      "application/vnd.jupyter.widget-view+json": {
       "model_id": "f010470b0f294721b906f5221a2cf0ba",
       "version_major": 2,
       "version_minor": 0
      },
      "text/plain": [
       "  0%|          | 0/800 [00:00<?, ?it/s]"
      ]
     },
     "metadata": {
      "tags": []
     },
     "output_type": "display_data"
    },
    {
     "name": "stdout",
     "output_type": "stream",
     "text": [
      "Optimization finished!\n",
      "Evaluating: {'k': 100, 'lambda_reg': 0.01, 'learning_rate': 0.1, 'max_iter': 900}\n"
     ]
    },
    {
     "data": {
      "application/vnd.jupyter.widget-view+json": {
       "model_id": "c51ba9beca374972b77f217b9c2aa8a8",
       "version_major": 2,
       "version_minor": 0
      },
      "text/plain": [
       "  0%|          | 0/900 [00:00<?, ?it/s]"
      ]
     },
     "metadata": {
      "tags": []
     },
     "output_type": "display_data"
    },
    {
     "name": "stdout",
     "output_type": "stream",
     "text": [
      "Optimization finished!\n",
      "Evaluating: {'k': 100, 'lambda_reg': 0.01, 'learning_rate': 0.1, 'max_iter': 1000}\n"
     ]
    },
    {
     "data": {
      "application/vnd.jupyter.widget-view+json": {
       "model_id": "fb00bb08c10540e6bc6fa010c3f70004",
       "version_major": 2,
       "version_minor": 0
      },
      "text/plain": [
       "  0%|          | 0/1000 [00:00<?, ?it/s]"
      ]
     },
     "metadata": {
      "tags": []
     },
     "output_type": "display_data"
    },
    {
     "name": "stdout",
     "output_type": "stream",
     "text": [
      "Optimization finished!\n",
      "Evaluating: {'k': 100, 'lambda_reg': 0.01, 'learning_rate': 0.5, 'max_iter': 100}\n"
     ]
    },
    {
     "data": {
      "application/vnd.jupyter.widget-view+json": {
       "model_id": "873fde9b74ab4fefab583f9de86abae4",
       "version_major": 2,
       "version_minor": 0
      },
      "text/plain": [
       "  0%|          | 0/100 [00:00<?, ?it/s]"
      ]
     },
     "metadata": {
      "tags": []
     },
     "output_type": "display_data"
    },
    {
     "name": "stdout",
     "output_type": "stream",
     "text": [
      "Optimization finished!\n",
      "Evaluating: {'k': 100, 'lambda_reg': 0.01, 'learning_rate': 0.5, 'max_iter': 200}\n"
     ]
    },
    {
     "data": {
      "application/vnd.jupyter.widget-view+json": {
       "model_id": "085d9eb2047a4fb8916d3ff62592422a",
       "version_major": 2,
       "version_minor": 0
      },
      "text/plain": [
       "  0%|          | 0/200 [00:00<?, ?it/s]"
      ]
     },
     "metadata": {
      "tags": []
     },
     "output_type": "display_data"
    },
    {
     "name": "stdout",
     "output_type": "stream",
     "text": [
      "Optimization finished!\n",
      "Evaluating: {'k': 100, 'lambda_reg': 0.01, 'learning_rate': 0.5, 'max_iter': 300}\n"
     ]
    },
    {
     "data": {
      "application/vnd.jupyter.widget-view+json": {
       "model_id": "278c55131d88488ea9e9afb573b066ea",
       "version_major": 2,
       "version_minor": 0
      },
      "text/plain": [
       "  0%|          | 0/300 [00:00<?, ?it/s]"
      ]
     },
     "metadata": {
      "tags": []
     },
     "output_type": "display_data"
    },
    {
     "name": "stdout",
     "output_type": "stream",
     "text": [
      "Optimization finished!\n",
      "Evaluating: {'k': 100, 'lambda_reg': 0.01, 'learning_rate': 0.5, 'max_iter': 400}\n"
     ]
    },
    {
     "data": {
      "application/vnd.jupyter.widget-view+json": {
       "model_id": "cabbc330e14a458393da184bb0e2a77c",
       "version_major": 2,
       "version_minor": 0
      },
      "text/plain": [
       "  0%|          | 0/400 [00:00<?, ?it/s]"
      ]
     },
     "metadata": {
      "tags": []
     },
     "output_type": "display_data"
    },
    {
     "name": "stdout",
     "output_type": "stream",
     "text": [
      "Optimization finished!\n",
      "Evaluating: {'k': 100, 'lambda_reg': 0.01, 'learning_rate': 0.5, 'max_iter': 500}\n"
     ]
    },
    {
     "data": {
      "application/vnd.jupyter.widget-view+json": {
       "model_id": "95bdc44918b44585ac17656a6225740d",
       "version_major": 2,
       "version_minor": 0
      },
      "text/plain": [
       "  0%|          | 0/500 [00:00<?, ?it/s]"
      ]
     },
     "metadata": {
      "tags": []
     },
     "output_type": "display_data"
    },
    {
     "name": "stdout",
     "output_type": "stream",
     "text": [
      "Optimization finished!\n",
      "Evaluating: {'k': 100, 'lambda_reg': 0.01, 'learning_rate': 0.5, 'max_iter': 600}\n"
     ]
    },
    {
     "data": {
      "application/vnd.jupyter.widget-view+json": {
       "model_id": "c4e07345c6f145be9e9e20e10ac3bc0e",
       "version_major": 2,
       "version_minor": 0
      },
      "text/plain": [
       "  0%|          | 0/600 [00:00<?, ?it/s]"
      ]
     },
     "metadata": {
      "tags": []
     },
     "output_type": "display_data"
    },
    {
     "name": "stdout",
     "output_type": "stream",
     "text": [
      "Optimization finished!\n",
      "Evaluating: {'k': 100, 'lambda_reg': 0.01, 'learning_rate': 0.5, 'max_iter': 700}\n"
     ]
    },
    {
     "data": {
      "application/vnd.jupyter.widget-view+json": {
       "model_id": "bb8f264fd05e46e6bbc0baf38d5d6e4a",
       "version_major": 2,
       "version_minor": 0
      },
      "text/plain": [
       "  0%|          | 0/700 [00:00<?, ?it/s]"
      ]
     },
     "metadata": {
      "tags": []
     },
     "output_type": "display_data"
    },
    {
     "name": "stdout",
     "output_type": "stream",
     "text": [
      "Optimization finished!\n",
      "Evaluating: {'k': 100, 'lambda_reg': 0.01, 'learning_rate': 0.5, 'max_iter': 800}\n"
     ]
    },
    {
     "data": {
      "application/vnd.jupyter.widget-view+json": {
       "model_id": "6de854504b3845419a293192751a3c4b",
       "version_major": 2,
       "version_minor": 0
      },
      "text/plain": [
       "  0%|          | 0/800 [00:00<?, ?it/s]"
      ]
     },
     "metadata": {
      "tags": []
     },
     "output_type": "display_data"
    },
    {
     "name": "stdout",
     "output_type": "stream",
     "text": [
      "Optimization finished!\n",
      "Evaluating: {'k': 100, 'lambda_reg': 0.01, 'learning_rate': 0.5, 'max_iter': 900}\n"
     ]
    },
    {
     "data": {
      "application/vnd.jupyter.widget-view+json": {
       "model_id": "341f87ca1939406ebcb9dea221030e82",
       "version_major": 2,
       "version_minor": 0
      },
      "text/plain": [
       "  0%|          | 0/900 [00:00<?, ?it/s]"
      ]
     },
     "metadata": {
      "tags": []
     },
     "output_type": "display_data"
    },
    {
     "name": "stdout",
     "output_type": "stream",
     "text": [
      "Optimization finished!\n",
      "Evaluating: {'k': 100, 'lambda_reg': 0.01, 'learning_rate': 0.5, 'max_iter': 1000}\n"
     ]
    },
    {
     "data": {
      "application/vnd.jupyter.widget-view+json": {
       "model_id": "deaae8edc3164cc0a0b15f7c574afb81",
       "version_major": 2,
       "version_minor": 0
      },
      "text/plain": [
       "  0%|          | 0/1000 [00:00<?, ?it/s]"
      ]
     },
     "metadata": {
      "tags": []
     },
     "output_type": "display_data"
    },
    {
     "name": "stdout",
     "output_type": "stream",
     "text": [
      "Optimization finished!\n",
      "Evaluating: {'k': 100, 'lambda_reg': 0.1, 'learning_rate': 0.01, 'max_iter': 100}\n"
     ]
    },
    {
     "data": {
      "application/vnd.jupyter.widget-view+json": {
       "model_id": "7f6645bac5af4f07b5a7404b526543d4",
       "version_major": 2,
       "version_minor": 0
      },
      "text/plain": [
       "  0%|          | 0/100 [00:00<?, ?it/s]"
      ]
     },
     "metadata": {
      "tags": []
     },
     "output_type": "display_data"
    },
    {
     "name": "stdout",
     "output_type": "stream",
     "text": [
      "Optimization finished!\n",
      "Evaluating: {'k': 100, 'lambda_reg': 0.1, 'learning_rate': 0.01, 'max_iter': 200}\n"
     ]
    },
    {
     "data": {
      "application/vnd.jupyter.widget-view+json": {
       "model_id": "e6ed9097aba549bfbec0c1b1dfad162a",
       "version_major": 2,
       "version_minor": 0
      },
      "text/plain": [
       "  0%|          | 0/200 [00:00<?, ?it/s]"
      ]
     },
     "metadata": {
      "tags": []
     },
     "output_type": "display_data"
    },
    {
     "name": "stdout",
     "output_type": "stream",
     "text": [
      "Optimization finished!\n",
      "Evaluating: {'k': 100, 'lambda_reg': 0.1, 'learning_rate': 0.01, 'max_iter': 300}\n"
     ]
    },
    {
     "data": {
      "application/vnd.jupyter.widget-view+json": {
       "model_id": "9fbbca35ec2a40c093fa8c7334d00d57",
       "version_major": 2,
       "version_minor": 0
      },
      "text/plain": [
       "  0%|          | 0/300 [00:00<?, ?it/s]"
      ]
     },
     "metadata": {
      "tags": []
     },
     "output_type": "display_data"
    },
    {
     "name": "stdout",
     "output_type": "stream",
     "text": [
      "Optimization finished!\n",
      "Evaluating: {'k': 100, 'lambda_reg': 0.1, 'learning_rate': 0.01, 'max_iter': 400}\n"
     ]
    },
    {
     "data": {
      "application/vnd.jupyter.widget-view+json": {
       "model_id": "b62aa4cd75d8483a95c05c6438749511",
       "version_major": 2,
       "version_minor": 0
      },
      "text/plain": [
       "  0%|          | 0/400 [00:00<?, ?it/s]"
      ]
     },
     "metadata": {
      "tags": []
     },
     "output_type": "display_data"
    },
    {
     "name": "stdout",
     "output_type": "stream",
     "text": [
      "Optimization finished!\n",
      "Evaluating: {'k': 100, 'lambda_reg': 0.1, 'learning_rate': 0.01, 'max_iter': 500}\n"
     ]
    },
    {
     "data": {
      "application/vnd.jupyter.widget-view+json": {
       "model_id": "ff35c65a9770488daf887f6777d0a5af",
       "version_major": 2,
       "version_minor": 0
      },
      "text/plain": [
       "  0%|          | 0/500 [00:00<?, ?it/s]"
      ]
     },
     "metadata": {
      "tags": []
     },
     "output_type": "display_data"
    },
    {
     "name": "stdout",
     "output_type": "stream",
     "text": [
      "Optimization finished!\n",
      "Evaluating: {'k': 100, 'lambda_reg': 0.1, 'learning_rate': 0.01, 'max_iter': 600}\n"
     ]
    },
    {
     "data": {
      "application/vnd.jupyter.widget-view+json": {
       "model_id": "7f568d87aaa942bf93aa1310a9c2224d",
       "version_major": 2,
       "version_minor": 0
      },
      "text/plain": [
       "  0%|          | 0/600 [00:00<?, ?it/s]"
      ]
     },
     "metadata": {
      "tags": []
     },
     "output_type": "display_data"
    },
    {
     "name": "stdout",
     "output_type": "stream",
     "text": [
      "Optimization finished!\n",
      "Evaluating: {'k': 100, 'lambda_reg': 0.1, 'learning_rate': 0.01, 'max_iter': 700}\n"
     ]
    },
    {
     "data": {
      "application/vnd.jupyter.widget-view+json": {
       "model_id": "5eb39e2f392d4d63b992e1c4ec139a22",
       "version_major": 2,
       "version_minor": 0
      },
      "text/plain": [
       "  0%|          | 0/700 [00:00<?, ?it/s]"
      ]
     },
     "metadata": {
      "tags": []
     },
     "output_type": "display_data"
    },
    {
     "name": "stdout",
     "output_type": "stream",
     "text": [
      "Optimization finished!\n",
      "Evaluating: {'k': 100, 'lambda_reg': 0.1, 'learning_rate': 0.01, 'max_iter': 800}\n"
     ]
    },
    {
     "data": {
      "application/vnd.jupyter.widget-view+json": {
       "model_id": "c1ea6afcb9464445a657a2df5af4ae89",
       "version_major": 2,
       "version_minor": 0
      },
      "text/plain": [
       "  0%|          | 0/800 [00:00<?, ?it/s]"
      ]
     },
     "metadata": {
      "tags": []
     },
     "output_type": "display_data"
    },
    {
     "name": "stdout",
     "output_type": "stream",
     "text": [
      "Optimization finished!\n",
      "Evaluating: {'k': 100, 'lambda_reg': 0.1, 'learning_rate': 0.01, 'max_iter': 900}\n"
     ]
    },
    {
     "data": {
      "application/vnd.jupyter.widget-view+json": {
       "model_id": "8ccb8e5a41de4cacb945a38d88928ff4",
       "version_major": 2,
       "version_minor": 0
      },
      "text/plain": [
       "  0%|          | 0/900 [00:00<?, ?it/s]"
      ]
     },
     "metadata": {
      "tags": []
     },
     "output_type": "display_data"
    },
    {
     "ename": "KeyboardInterrupt",
     "evalue": "",
     "output_type": "error",
     "traceback": [
      "\u001b[1;31m---------------------------------------------------------------------------\u001b[0m",
      "\u001b[1;31mKeyboardInterrupt\u001b[0m                         Traceback (most recent call last)",
      "\u001b[1;32m<ipython-input-9-594caa204a00>\u001b[0m in \u001b[0;36m<module>\u001b[1;34m\u001b[0m\n\u001b[0;32m     14\u001b[0m )\n\u001b[0;32m     15\u001b[0m \u001b[1;33m\u001b[0m\u001b[0m\n\u001b[1;32m---> 16\u001b[1;33m \u001b[0mcornac\u001b[0m\u001b[1;33m.\u001b[0m\u001b[0mExperiment\u001b[0m\u001b[1;33m(\u001b[0m\u001b[0meval_method\u001b[0m\u001b[1;33m=\u001b[0m\u001b[0mrs\u001b[0m\u001b[1;33m,\u001b[0m \u001b[0mmodels\u001b[0m\u001b[1;33m=\u001b[0m\u001b[1;33m[\u001b[0m\u001b[0mgs_bpr\u001b[0m\u001b[1;33m]\u001b[0m\u001b[1;33m,\u001b[0m \u001b[0mmetrics\u001b[0m\u001b[1;33m=\u001b[0m\u001b[0meval_metrics\u001b[0m\u001b[1;33m,\u001b[0m \u001b[0mverbose\u001b[0m\u001b[1;33m=\u001b[0m\u001b[0mVERBOSE\u001b[0m\u001b[1;33m)\u001b[0m\u001b[1;33m.\u001b[0m\u001b[0mrun\u001b[0m\u001b[1;33m(\u001b[0m\u001b[1;33m)\u001b[0m\u001b[1;33m\u001b[0m\u001b[1;33m\u001b[0m\u001b[0m\n\u001b[0m",
      "\u001b[1;32m~\\Anaconda3\\envs\\tensorflow\\lib\\site-packages\\cornac\\experiment\\experiment.py\u001b[0m in \u001b[0;36mrun\u001b[1;34m(self)\u001b[0m\n\u001b[0;32m    128\u001b[0m                 \u001b[0mmetrics\u001b[0m\u001b[1;33m=\u001b[0m\u001b[0mself\u001b[0m\u001b[1;33m.\u001b[0m\u001b[0mmetrics\u001b[0m\u001b[1;33m,\u001b[0m\u001b[1;33m\u001b[0m\u001b[1;33m\u001b[0m\u001b[0m\n\u001b[0;32m    129\u001b[0m                 \u001b[0muser_based\u001b[0m\u001b[1;33m=\u001b[0m\u001b[0mself\u001b[0m\u001b[1;33m.\u001b[0m\u001b[0muser_based\u001b[0m\u001b[1;33m,\u001b[0m\u001b[1;33m\u001b[0m\u001b[1;33m\u001b[0m\u001b[0m\n\u001b[1;32m--> 130\u001b[1;33m                 \u001b[0mshow_validation\u001b[0m\u001b[1;33m=\u001b[0m\u001b[0mself\u001b[0m\u001b[1;33m.\u001b[0m\u001b[0mshow_validation\u001b[0m\u001b[1;33m,\u001b[0m\u001b[1;33m\u001b[0m\u001b[1;33m\u001b[0m\u001b[0m\n\u001b[0m\u001b[0;32m    131\u001b[0m             )\n\u001b[0;32m    132\u001b[0m \u001b[1;33m\u001b[0m\u001b[0m\n",
      "\u001b[1;32m~\\Anaconda3\\envs\\tensorflow\\lib\\site-packages\\cornac\\eval_methods\\base_method.py\u001b[0m in \u001b[0;36mevaluate\u001b[1;34m(self, model, metrics, user_based, show_validation)\u001b[0m\n\u001b[0;32m    593\u001b[0m \u001b[1;33m\u001b[0m\u001b[0m\n\u001b[0;32m    594\u001b[0m         \u001b[0mstart\u001b[0m \u001b[1;33m=\u001b[0m \u001b[0mtime\u001b[0m\u001b[1;33m.\u001b[0m\u001b[0mtime\u001b[0m\u001b[1;33m(\u001b[0m\u001b[1;33m)\u001b[0m\u001b[1;33m\u001b[0m\u001b[1;33m\u001b[0m\u001b[0m\n\u001b[1;32m--> 595\u001b[1;33m         \u001b[0mmodel\u001b[0m\u001b[1;33m.\u001b[0m\u001b[0mfit\u001b[0m\u001b[1;33m(\u001b[0m\u001b[0mself\u001b[0m\u001b[1;33m.\u001b[0m\u001b[0mtrain_set\u001b[0m\u001b[1;33m,\u001b[0m \u001b[0mself\u001b[0m\u001b[1;33m.\u001b[0m\u001b[0mval_set\u001b[0m\u001b[1;33m)\u001b[0m\u001b[1;33m\u001b[0m\u001b[1;33m\u001b[0m\u001b[0m\n\u001b[0m\u001b[0;32m    596\u001b[0m         \u001b[0mtrain_time\u001b[0m \u001b[1;33m=\u001b[0m \u001b[0mtime\u001b[0m\u001b[1;33m.\u001b[0m\u001b[0mtime\u001b[0m\u001b[1;33m(\u001b[0m\u001b[1;33m)\u001b[0m \u001b[1;33m-\u001b[0m \u001b[0mstart\u001b[0m\u001b[1;33m\u001b[0m\u001b[1;33m\u001b[0m\u001b[0m\n\u001b[0;32m    597\u001b[0m \u001b[1;33m\u001b[0m\u001b[0m\n",
      "\u001b[1;32m~\\Anaconda3\\envs\\tensorflow\\lib\\site-packages\\cornac\\hyperopt.py\u001b[0m in \u001b[0;36mfit\u001b[1;34m(self, train_set, val_set)\u001b[0m\n\u001b[0;32m    144\u001b[0m                 \u001b[0mprint\u001b[0m\u001b[1;33m(\u001b[0m\u001b[1;34m\"Evaluating: {}\"\u001b[0m\u001b[1;33m.\u001b[0m\u001b[0mformat\u001b[0m\u001b[1;33m(\u001b[0m\u001b[0mparams\u001b[0m\u001b[1;33m)\u001b[0m\u001b[1;33m)\u001b[0m\u001b[1;33m\u001b[0m\u001b[1;33m\u001b[0m\u001b[0m\n\u001b[0;32m    145\u001b[0m \u001b[1;33m\u001b[0m\u001b[0m\n\u001b[1;32m--> 146\u001b[1;33m             \u001b[0mmodel\u001b[0m \u001b[1;33m=\u001b[0m \u001b[0mself\u001b[0m\u001b[1;33m.\u001b[0m\u001b[0mmodel\u001b[0m\u001b[1;33m.\u001b[0m\u001b[0mclone\u001b[0m\u001b[1;33m(\u001b[0m\u001b[0mparams\u001b[0m\u001b[1;33m)\u001b[0m\u001b[1;33m.\u001b[0m\u001b[0mfit\u001b[0m\u001b[1;33m(\u001b[0m\u001b[0mtrain_set\u001b[0m\u001b[1;33m,\u001b[0m \u001b[0mval_set\u001b[0m\u001b[1;33m)\u001b[0m\u001b[1;33m\u001b[0m\u001b[1;33m\u001b[0m\u001b[0m\n\u001b[0m\u001b[0;32m    147\u001b[0m \u001b[1;33m\u001b[0m\u001b[0m\n\u001b[0;32m    148\u001b[0m             \u001b[1;32mif\u001b[0m \u001b[0misinstance\u001b[0m\u001b[1;33m(\u001b[0m\u001b[0mself\u001b[0m\u001b[1;33m.\u001b[0m\u001b[0mmetric\u001b[0m\u001b[1;33m,\u001b[0m \u001b[0mRatingMetric\u001b[0m\u001b[1;33m)\u001b[0m\u001b[1;33m:\u001b[0m\u001b[1;33m\u001b[0m\u001b[1;33m\u001b[0m\u001b[0m\n",
      "\u001b[1;32mcornac/models/bpr/recom_bpr.pyx\u001b[0m in \u001b[0;36mcornac.models.bpr.recom_bpr.BPR.fit\u001b[1;34m()\u001b[0m\n",
      "\u001b[1;32mcornac/models/bpr/recom_bpr.pyx\u001b[0m in \u001b[0;36mcornac.models.bpr.recom_bpr.BPR.fit\u001b[1;34m()\u001b[0m\n",
      "\u001b[1;32m~\\Anaconda3\\envs\\tensorflow\\lib\\site-packages\\tqdm\\std.py\u001b[0m in \u001b[0;36mset_postfix\u001b[1;34m(self, ordered_dict, refresh, **kwargs)\u001b[0m\n\u001b[0;32m   1397\u001b[0m             \u001b[0mself\u001b[0m\u001b[1;33m.\u001b[0m\u001b[0mrefresh\u001b[0m\u001b[1;33m(\u001b[0m\u001b[1;33m)\u001b[0m\u001b[1;33m\u001b[0m\u001b[1;33m\u001b[0m\u001b[0m\n\u001b[0;32m   1398\u001b[0m \u001b[1;33m\u001b[0m\u001b[0m\n\u001b[1;32m-> 1399\u001b[1;33m     \u001b[1;32mdef\u001b[0m \u001b[0mset_postfix\u001b[0m\u001b[1;33m(\u001b[0m\u001b[0mself\u001b[0m\u001b[1;33m,\u001b[0m \u001b[0mordered_dict\u001b[0m\u001b[1;33m=\u001b[0m\u001b[1;32mNone\u001b[0m\u001b[1;33m,\u001b[0m \u001b[0mrefresh\u001b[0m\u001b[1;33m=\u001b[0m\u001b[1;32mTrue\u001b[0m\u001b[1;33m,\u001b[0m \u001b[1;33m**\u001b[0m\u001b[0mkwargs\u001b[0m\u001b[1;33m)\u001b[0m\u001b[1;33m:\u001b[0m\u001b[1;33m\u001b[0m\u001b[1;33m\u001b[0m\u001b[0m\n\u001b[0m\u001b[0;32m   1400\u001b[0m         \"\"\"\n\u001b[0;32m   1401\u001b[0m         \u001b[0mSet\u001b[0m\u001b[1;33m/\u001b[0m\u001b[0mmodify\u001b[0m \u001b[0mpostfix\u001b[0m \u001b[1;33m(\u001b[0m\u001b[0madditional\u001b[0m \u001b[0mstats\u001b[0m\u001b[1;33m)\u001b[0m\u001b[1;33m\u001b[0m\u001b[1;33m\u001b[0m\u001b[0m\n",
      "\u001b[1;31mKeyboardInterrupt\u001b[0m: "
     ]
    }
   ],
   "source": [
    "# hyperparameters grid search\n",
    "bpr = BPR(verbose=VERBOSE, seed=SEED, name=f\"BPR(K={K})\")\n",
    "\n",
    "gs_bpr = GridSearch(\n",
    "    model=bpr,\n",
    "    space=[\n",
    "        Discrete(\"k\", [i for i in range(100, 5000, 50)]),\n",
    "        Discrete(\"max_iter\", [100, 200, 300, 400, 500, 600, 700, 800, 900, 1000]),\n",
    "        Discrete(\"lambda_reg\", [0.001, 0.01, 0.1, 1]),\n",
    "        Discrete(\"learning_rate\", [0.01, 0.1, 0.5])\n",
    "    ],\n",
    "    metric=cornac.metrics.NCRR(k=10),\n",
    "    eval_method=rs\n",
    ")\n",
    "\n",
    "cornac.Experiment(eval_method=rs, models=[gs_bpr], metrics=eval_metrics, verbose=VERBOSE).run()"
   ]
  },
  {
   "cell_type": "code",
   "execution_count": null,
   "metadata": {
    "id": "1d96c5bd"
   },
   "outputs": [],
   "source": [
    "K=300\n",
    "wmf = WMF(k=K, max_iter=1000, a=1.0, b=0.01, learning_rate=0.01, lambda_u=0.01, lambda_v=0.01,\n",
    "              verbose=VERBOSE, seed=SEED, name=f\"WMF(K={K})\")\n",
    "\n",
    "eval_metrics = [\n",
    "      cornac.metrics.RMSE(), \n",
    "      cornac.metrics.AUC(),\n",
    "      cornac.metrics.Precision(k=20),\n",
    "      cornac.metrics.Recall(k=20),\n",
    "      cornac.metrics.FMeasure(k=20),\n",
    "      cornac.metrics.NDCG(k=20),\n",
    "      cornac.metrics.NCRR(k=20)\n",
    "    ]\n",
    "\n",
    "cornac.Experiment(eval_method=rs, models=[wmf], metrics=eval_metrics).run()"
   ]
  },
  {
   "cell_type": "code",
   "execution_count": null,
   "metadata": {
    "colab": {
     "referenced_widgets": [
      "6bff3217188f4a288aef976e4cb734a8",
      "46e0d7390e1e4cdeb65b2203600075b0",
      "6329ee6725b84cffaa4b1734cf32d6ab",
      "80ac9753b02c47898e7f1fa022ca3b79",
      "725d2b29a9b24baeb0a4fed4b77dda1b",
      "06ece34e91c74e8dab25872e2e53117a",
      "1f344f480ad0496788bd1132af0b5c19",
      "99abc22a3cad441085875ff4b707b1d4",
      "a3db0591f9ce4ba0b86c7beaa9242be6",
      "857e7db61e5b4de484d27aa6dc4edeb8",
      "1e06ac99109c4359b2387df813391dc7",
      "d8e13cdb2ffd454a97011712243defe0",
      "0073a3edd9364a87a007ab0844b9d132",
      "02e06deea95a474b9f20787bbc72b90b",
      "23b1dc069dc643c4bdc3ebecce54db15",
      "ce955b7f252b455ba296f9da5ff44f08",
      "6647dfb920fd4e518ea2f0cbb448c5e3",
      "967e75c89ac94f5ea8a04815fbad99ca",
      "e85569672dab4e299f0a902ac66e72c8",
      "6e30ba4f7c194f2ebc8131dca4158736",
      "d0c294e296c84e0f98f380b7a35a783f",
      "dce26f75e7064604b3662f2b2d16840d",
      "e3b5e906e3a84b8abb12ffbeecd2819f",
      "69616a772b734abea6d39aa23033b141",
      "0807c0d168b4464ea683140a49d5ea6e",
      "cf231c0e5d3c4f7ea41d0e892a0383f1",
      "cb64fcd97a9f4aefa963d68c7854c77c",
      "2b1bd2f7d3694bde80272875d5b89fbb",
      "2cbd701cd63c4088aa315cd381dff694",
      "56e40e2152bc4cdb976377dd1881f200",
      "f730d8fc22e04f6a8e74aface87b6d73",
      "833789064396457289dfae73a7db9cf4",
      "b9056c694a15478f80f1a3dd3450ba87",
      "c84537b537b941b4aa17b96143ae37b5",
      "82cbb6abfa724731a9d8c900686bfaaf",
      "dcfa516b9120479d8d526733df70cfb5",
      "08ee72abed0e49d2a2fec6320f459d88",
      "8130539fd6de4701bad0dace5831561a",
      "cb85638088ca4bc38481ee11d7f163a6",
      "f7f28662b7024465910d336385b3448b",
      "ce59f16c0853444d8ec8b312cd3a3ac2",
      "76109f2bf6c049e49f0f19f6a0f2d44a",
      "a1e7ee8abebc4c9b80eeb140569a0326",
      "d6dd24e22c9745258263c7e224fc36f0",
      "85ca0354e0af4233886a2b197811c45c",
      "3b818131366b4f6ca9333327de4be37f",
      "bb791598b7cf418aba2eee385d9db4f8",
      "f9371e41dff547a097bfa38c7f9cef1c",
      "14cbee9deb4e4053b7c64c96f3dd04ef",
      "745beed2b12b43c9840e219f943ff766",
      "fbf759515b9548b7a90432b88bfd8e9c",
      "bff123e4db9d48c386ba455178f5661d",
      "a27e4fcc2e1e4f258f4685e97d3f3984",
      "7ce83485927743f9a1730c9d02c44f26",
      "e5db6e8245ec4342accbfcf44934eea3",
      "90361d8db5f4493aa289ffd671fdb023",
      "82cb5fd9c5474633b898ebfddb63eded",
      "2401282798d04e25998b23ae581dfa94",
      "59aa58525fb345caa8884a9a16c265c7",
      "e1af7a2cc6304494996e3bf0a0da14d0",
      "a7f78813c1a54a2ea6a105727f8ee3e6",
      "700f4799e8ca456e95d2c252ca870663",
      "5a2b0d6210194dae89a9375a688543dc",
      "b625621d8d534b0990a3424244c716eb",
      "41c18186388347bfa319969e3a95cd34"
     ]
    },
    "id": "35cd7560",
    "outputId": "e44a6ba6-da42-42c9-8023-04c6a8bd7eea"
   },
   "outputs": [
    {
     "name": "stdout",
     "output_type": "stream",
     "text": [
      "\n",
      "[BPR(K=200)] Training started!\n"
     ]
    },
    {
     "data": {
      "application/vnd.jupyter.widget-view+json": {
       "model_id": "6bff3217188f4a288aef976e4cb734a8",
       "version_major": 2,
       "version_minor": 0
      },
      "text/plain": [
       "  0%|          | 0/100 [00:00<?, ?it/s]"
      ]
     },
     "metadata": {
      "tags": []
     },
     "output_type": "display_data"
    },
    {
     "name": "stdout",
     "output_type": "stream",
     "text": [
      "Optimization finished!\n",
      "\n",
      "[BPR(K=200)] Evaluation started!\n"
     ]
    },
    {
     "data": {
      "application/vnd.jupyter.widget-view+json": {
       "model_id": "46e0d7390e1e4cdeb65b2203600075b0",
       "version_major": 2,
       "version_minor": 0
      },
      "text/plain": [
       "Rating:   0%|          | 0/597648 [00:00<?, ?it/s]"
      ]
     },
     "metadata": {
      "tags": []
     },
     "output_type": "display_data"
    },
    {
     "data": {
      "application/vnd.jupyter.widget-view+json": {
       "model_id": "6329ee6725b84cffaa4b1734cf32d6ab",
       "version_major": 2,
       "version_minor": 0
      },
      "text/plain": [
       "Ranking:   0%|          | 0/53408 [00:00<?, ?it/s]"
      ]
     },
     "metadata": {
      "tags": []
     },
     "output_type": "display_data"
    },
    {
     "data": {
      "application/vnd.jupyter.widget-view+json": {
       "model_id": "80ac9753b02c47898e7f1fa022ca3b79",
       "version_major": 2,
       "version_minor": 0
      },
      "text/plain": [
       "Rating:   0%|          | 0/597648 [00:00<?, ?it/s]"
      ]
     },
     "metadata": {
      "tags": []
     },
     "output_type": "display_data"
    },
    {
     "data": {
      "application/vnd.jupyter.widget-view+json": {
       "model_id": "725d2b29a9b24baeb0a4fed4b77dda1b",
       "version_major": 2,
       "version_minor": 0
      },
      "text/plain": [
       "Ranking:   0%|          | 0/53389 [00:00<?, ?it/s]"
      ]
     },
     "metadata": {
      "tags": []
     },
     "output_type": "display_data"
    },
    {
     "name": "stdout",
     "output_type": "stream",
     "text": [
      "\n",
      "VALIDATION:\n",
      "...\n",
      "           |   RMSE |    AUC |  F1@20 | NCRR@20 | NDCG@20 | Precision@20 | Recall@20 | Time (s)\n",
      "---------- + ------ + ------ + ------ + ------- + ------- + ------------ + --------- + --------\n",
      "BPR(K=200) | 1.7762 | 0.9558 | 0.0630 |  0.0650 |  0.0776 |       0.0489 |    0.0985 | 196.2480\n",
      "\n",
      "TEST:\n",
      "...\n",
      "           |   RMSE |    AUC |  F1@20 | NCRR@20 | NDCG@20 | Precision@20 | Recall@20 | Train (s) | Test (s)\n",
      "---------- + ------ + ------ + ------ + ------- + ------- + ------------ + --------- + --------- + --------\n",
      "BPR(K=200) | 1.7765 | 0.9562 | 0.0629 |  0.0649 |  0.0775 |       0.0488 |    0.0986 |  690.4920 | 178.0175\n",
      "\n",
      "\n",
      "[BPR(K=300)] Training started!\n"
     ]
    },
    {
     "data": {
      "application/vnd.jupyter.widget-view+json": {
       "model_id": "06ece34e91c74e8dab25872e2e53117a",
       "version_major": 2,
       "version_minor": 0
      },
      "text/plain": [
       "  0%|          | 0/100 [00:00<?, ?it/s]"
      ]
     },
     "metadata": {
      "tags": []
     },
     "output_type": "display_data"
    },
    {
     "name": "stdout",
     "output_type": "stream",
     "text": [
      "Optimization finished!\n",
      "\n",
      "[BPR(K=300)] Evaluation started!\n"
     ]
    },
    {
     "data": {
      "application/vnd.jupyter.widget-view+json": {
       "model_id": "1f344f480ad0496788bd1132af0b5c19",
       "version_major": 2,
       "version_minor": 0
      },
      "text/plain": [
       "Rating:   0%|          | 0/597648 [00:00<?, ?it/s]"
      ]
     },
     "metadata": {
      "tags": []
     },
     "output_type": "display_data"
    },
    {
     "data": {
      "application/vnd.jupyter.widget-view+json": {
       "model_id": "99abc22a3cad441085875ff4b707b1d4",
       "version_major": 2,
       "version_minor": 0
      },
      "text/plain": [
       "Ranking:   0%|          | 0/53408 [00:00<?, ?it/s]"
      ]
     },
     "metadata": {
      "tags": []
     },
     "output_type": "display_data"
    },
    {
     "data": {
      "application/vnd.jupyter.widget-view+json": {
       "model_id": "a3db0591f9ce4ba0b86c7beaa9242be6",
       "version_major": 2,
       "version_minor": 0
      },
      "text/plain": [
       "Rating:   0%|          | 0/597648 [00:00<?, ?it/s]"
      ]
     },
     "metadata": {
      "tags": []
     },
     "output_type": "display_data"
    },
    {
     "data": {
      "application/vnd.jupyter.widget-view+json": {
       "model_id": "857e7db61e5b4de484d27aa6dc4edeb8",
       "version_major": 2,
       "version_minor": 0
      },
      "text/plain": [
       "Ranking:   0%|          | 0/53389 [00:00<?, ?it/s]"
      ]
     },
     "metadata": {
      "tags": []
     },
     "output_type": "display_data"
    },
    {
     "name": "stdout",
     "output_type": "stream",
     "text": [
      "\n",
      "VALIDATION:\n",
      "...\n",
      "           |   RMSE |    AUC |  F1@20 | NCRR@20 | NDCG@20 | Precision@20 | Recall@20 | Time (s)\n",
      "---------- + ------ + ------ + ------ + ------- + ------- + ------------ + --------- + --------\n",
      "BPR(K=300) | 1.7792 | 0.9555 | 0.0625 |  0.0645 |  0.0770 |       0.0485 |    0.0976 | 201.3513\n",
      "\n",
      "TEST:\n",
      "...\n",
      "           |   RMSE |    AUC |  F1@20 | NCRR@20 | NDCG@20 | Precision@20 | Recall@20 | Train (s) | Test (s)\n",
      "---------- + ------ + ------ + ------ + ------- + ------- + ------------ + --------- + --------- + --------\n",
      "BPR(K=300) | 1.7797 | 0.9559 | 0.0624 |  0.0647 |  0.0770 |       0.0485 |    0.0976 |  977.0069 | 191.2423\n",
      "\n",
      "\n",
      "[BPR(K=400)] Training started!\n"
     ]
    },
    {
     "data": {
      "application/vnd.jupyter.widget-view+json": {
       "model_id": "1e06ac99109c4359b2387df813391dc7",
       "version_major": 2,
       "version_minor": 0
      },
      "text/plain": [
       "  0%|          | 0/100 [00:00<?, ?it/s]"
      ]
     },
     "metadata": {
      "tags": []
     },
     "output_type": "display_data"
    },
    {
     "name": "stdout",
     "output_type": "stream",
     "text": [
      "Optimization finished!\n",
      "\n",
      "[BPR(K=400)] Evaluation started!\n"
     ]
    },
    {
     "data": {
      "application/vnd.jupyter.widget-view+json": {
       "model_id": "d8e13cdb2ffd454a97011712243defe0",
       "version_major": 2,
       "version_minor": 0
      },
      "text/plain": [
       "Rating:   0%|          | 0/597648 [00:00<?, ?it/s]"
      ]
     },
     "metadata": {
      "tags": []
     },
     "output_type": "display_data"
    },
    {
     "data": {
      "application/vnd.jupyter.widget-view+json": {
       "model_id": "0073a3edd9364a87a007ab0844b9d132",
       "version_major": 2,
       "version_minor": 0
      },
      "text/plain": [
       "Ranking:   0%|          | 0/53408 [00:00<?, ?it/s]"
      ]
     },
     "metadata": {
      "tags": []
     },
     "output_type": "display_data"
    },
    {
     "data": {
      "application/vnd.jupyter.widget-view+json": {
       "model_id": "02e06deea95a474b9f20787bbc72b90b",
       "version_major": 2,
       "version_minor": 0
      },
      "text/plain": [
       "Rating:   0%|          | 0/597648 [00:00<?, ?it/s]"
      ]
     },
     "metadata": {
      "tags": []
     },
     "output_type": "display_data"
    },
    {
     "data": {
      "application/vnd.jupyter.widget-view+json": {
       "model_id": "23b1dc069dc643c4bdc3ebecce54db15",
       "version_major": 2,
       "version_minor": 0
      },
      "text/plain": [
       "Ranking:   0%|          | 0/53389 [00:00<?, ?it/s]"
      ]
     },
     "metadata": {
      "tags": []
     },
     "output_type": "display_data"
    },
    {
     "name": "stdout",
     "output_type": "stream",
     "text": [
      "\n",
      "VALIDATION:\n",
      "...\n",
      "           |   RMSE |    AUC |  F1@20 | NCRR@20 | NDCG@20 | Precision@20 | Recall@20 | Time (s)\n",
      "---------- + ------ + ------ + ------ + ------- + ------- + ------------ + --------- + --------\n",
      "BPR(K=400) | 1.7796 | 0.9553 | 0.0625 |  0.0649 |  0.0773 |       0.0485 |    0.0977 | 250.1765\n",
      "\n",
      "TEST:\n",
      "...\n",
      "           |   RMSE |    AUC |  F1@20 | NCRR@20 | NDCG@20 | Precision@20 | Recall@20 | Train (s) | Test (s)\n",
      "---------- + ------ + ------ + ------ + ------- + ------- + ------------ + --------- + --------- + --------\n",
      "BPR(K=400) | 1.7805 | 0.9557 | 0.0626 |  0.0641 |  0.0768 |       0.0486 |    0.0977 | 1230.6385 | 263.8583\n",
      "\n",
      "\n",
      "[BPR(K=500)] Training started!\n"
     ]
    },
    {
     "data": {
      "application/vnd.jupyter.widget-view+json": {
       "model_id": "ce955b7f252b455ba296f9da5ff44f08",
       "version_major": 2,
       "version_minor": 0
      },
      "text/plain": [
       "  0%|          | 0/100 [00:00<?, ?it/s]"
      ]
     },
     "metadata": {
      "tags": []
     },
     "output_type": "display_data"
    },
    {
     "name": "stdout",
     "output_type": "stream",
     "text": [
      "Optimization finished!\n",
      "\n",
      "[BPR(K=500)] Evaluation started!\n"
     ]
    },
    {
     "data": {
      "application/vnd.jupyter.widget-view+json": {
       "model_id": "6647dfb920fd4e518ea2f0cbb448c5e3",
       "version_major": 2,
       "version_minor": 0
      },
      "text/plain": [
       "Rating:   0%|          | 0/597648 [00:00<?, ?it/s]"
      ]
     },
     "metadata": {
      "tags": []
     },
     "output_type": "display_data"
    },
    {
     "data": {
      "application/vnd.jupyter.widget-view+json": {
       "model_id": "967e75c89ac94f5ea8a04815fbad99ca",
       "version_major": 2,
       "version_minor": 0
      },
      "text/plain": [
       "Ranking:   0%|          | 0/53408 [00:00<?, ?it/s]"
      ]
     },
     "metadata": {
      "tags": []
     },
     "output_type": "display_data"
    },
    {
     "data": {
      "application/vnd.jupyter.widget-view+json": {
       "model_id": "e85569672dab4e299f0a902ac66e72c8",
       "version_major": 2,
       "version_minor": 0
      },
      "text/plain": [
       "Rating:   0%|          | 0/597648 [00:00<?, ?it/s]"
      ]
     },
     "metadata": {
      "tags": []
     },
     "output_type": "display_data"
    },
    {
     "data": {
      "application/vnd.jupyter.widget-view+json": {
       "model_id": "6e30ba4f7c194f2ebc8131dca4158736",
       "version_major": 2,
       "version_minor": 0
      },
      "text/plain": [
       "Ranking:   0%|          | 0/53389 [00:00<?, ?it/s]"
      ]
     },
     "metadata": {
      "tags": []
     },
     "output_type": "display_data"
    },
    {
     "name": "stdout",
     "output_type": "stream",
     "text": [
      "\n",
      "VALIDATION:\n",
      "...\n",
      "           |   RMSE |    AUC |  F1@20 | NCRR@20 | NDCG@20 | Precision@20 | Recall@20 | Time (s)\n",
      "---------- + ------ + ------ + ------ + ------- + ------- + ------------ + --------- + --------\n",
      "BPR(K=500) | 1.7812 | 0.9551 | 0.0621 |  0.0646 |  0.0768 |       0.0482 |    0.0969 | 233.3540\n",
      "\n",
      "TEST:\n",
      "...\n",
      "           |   RMSE |    AUC |  F1@20 | NCRR@20 | NDCG@20 | Precision@20 | Recall@20 | Train (s) | Test (s)\n",
      "---------- + ------ + ------ + ------ + ------- + ------- + ------------ + --------- + --------- + --------\n",
      "BPR(K=500) | 1.7816 | 0.9555 | 0.0626 |  0.0647 |  0.0772 |       0.0486 |    0.0980 | 1531.9991 | 266.3123\n",
      "\n",
      "\n",
      "[BPR(K=600)] Training started!\n"
     ]
    },
    {
     "data": {
      "application/vnd.jupyter.widget-view+json": {
       "model_id": "d0c294e296c84e0f98f380b7a35a783f",
       "version_major": 2,
       "version_minor": 0
      },
      "text/plain": [
       "  0%|          | 0/100 [00:00<?, ?it/s]"
      ]
     },
     "metadata": {
      "tags": []
     },
     "output_type": "display_data"
    },
    {
     "name": "stdout",
     "output_type": "stream",
     "text": [
      "Optimization finished!\n",
      "\n",
      "[BPR(K=600)] Evaluation started!\n"
     ]
    },
    {
     "data": {
      "application/vnd.jupyter.widget-view+json": {
       "model_id": "dce26f75e7064604b3662f2b2d16840d",
       "version_major": 2,
       "version_minor": 0
      },
      "text/plain": [
       "Rating:   0%|          | 0/597648 [00:00<?, ?it/s]"
      ]
     },
     "metadata": {
      "tags": []
     },
     "output_type": "display_data"
    },
    {
     "data": {
      "application/vnd.jupyter.widget-view+json": {
       "model_id": "e3b5e906e3a84b8abb12ffbeecd2819f",
       "version_major": 2,
       "version_minor": 0
      },
      "text/plain": [
       "Ranking:   0%|          | 0/53408 [00:00<?, ?it/s]"
      ]
     },
     "metadata": {
      "tags": []
     },
     "output_type": "display_data"
    },
    {
     "data": {
      "application/vnd.jupyter.widget-view+json": {
       "model_id": "69616a772b734abea6d39aa23033b141",
       "version_major": 2,
       "version_minor": 0
      },
      "text/plain": [
       "Rating:   0%|          | 0/597648 [00:00<?, ?it/s]"
      ]
     },
     "metadata": {
      "tags": []
     },
     "output_type": "display_data"
    },
    {
     "data": {
      "application/vnd.jupyter.widget-view+json": {
       "model_id": "0807c0d168b4464ea683140a49d5ea6e",
       "version_major": 2,
       "version_minor": 0
      },
      "text/plain": [
       "Ranking:   0%|          | 0/53389 [00:00<?, ?it/s]"
      ]
     },
     "metadata": {
      "tags": []
     },
     "output_type": "display_data"
    },
    {
     "name": "stdout",
     "output_type": "stream",
     "text": [
      "\n",
      "VALIDATION:\n",
      "...\n",
      "           |   RMSE |    AUC |  F1@20 | NCRR@20 | NDCG@20 | Precision@20 | Recall@20 | Time (s)\n",
      "---------- + ------ + ------ + ------ + ------- + ------- + ------------ + --------- + --------\n",
      "BPR(K=600) | 1.7818 | 0.9550 | 0.0621 |  0.0645 |  0.0767 |       0.0482 |    0.0971 | 253.0505\n",
      "\n",
      "TEST:\n",
      "...\n",
      "           |   RMSE |    AUC |  F1@20 | NCRR@20 | NDCG@20 | Precision@20 | Recall@20 | Train (s) | Test (s)\n",
      "---------- + ------ + ------ + ------ + ------- + ------- + ------------ + --------- + --------- + --------\n",
      "BPR(K=600) | 1.7825 | 0.9554 | 0.0626 |  0.0642 |  0.0769 |       0.0486 |    0.0979 | 1677.8937 | 261.1245\n",
      "\n",
      "\n",
      "[BPR(K=700)] Training started!\n"
     ]
    },
    {
     "data": {
      "application/vnd.jupyter.widget-view+json": {
       "model_id": "cf231c0e5d3c4f7ea41d0e892a0383f1",
       "version_major": 2,
       "version_minor": 0
      },
      "text/plain": [
       "  0%|          | 0/100 [00:00<?, ?it/s]"
      ]
     },
     "metadata": {
      "tags": []
     },
     "output_type": "display_data"
    },
    {
     "name": "stdout",
     "output_type": "stream",
     "text": [
      "Optimization finished!\n",
      "\n",
      "[BPR(K=700)] Evaluation started!\n"
     ]
    },
    {
     "data": {
      "application/vnd.jupyter.widget-view+json": {
       "model_id": "cb64fcd97a9f4aefa963d68c7854c77c",
       "version_major": 2,
       "version_minor": 0
      },
      "text/plain": [
       "Rating:   0%|          | 0/597648 [00:00<?, ?it/s]"
      ]
     },
     "metadata": {
      "tags": []
     },
     "output_type": "display_data"
    },
    {
     "data": {
      "application/vnd.jupyter.widget-view+json": {
       "model_id": "2b1bd2f7d3694bde80272875d5b89fbb",
       "version_major": 2,
       "version_minor": 0
      },
      "text/plain": [
       "Ranking:   0%|          | 0/53408 [00:00<?, ?it/s]"
      ]
     },
     "metadata": {
      "tags": []
     },
     "output_type": "display_data"
    },
    {
     "data": {
      "application/vnd.jupyter.widget-view+json": {
       "model_id": "2cbd701cd63c4088aa315cd381dff694",
       "version_major": 2,
       "version_minor": 0
      },
      "text/plain": [
       "Rating:   0%|          | 0/597648 [00:00<?, ?it/s]"
      ]
     },
     "metadata": {
      "tags": []
     },
     "output_type": "display_data"
    },
    {
     "data": {
      "application/vnd.jupyter.widget-view+json": {
       "model_id": "56e40e2152bc4cdb976377dd1881f200",
       "version_major": 2,
       "version_minor": 0
      },
      "text/plain": [
       "Ranking:   0%|          | 0/53389 [00:00<?, ?it/s]"
      ]
     },
     "metadata": {
      "tags": []
     },
     "output_type": "display_data"
    },
    {
     "name": "stdout",
     "output_type": "stream",
     "text": [
      "\n",
      "VALIDATION:\n",
      "...\n",
      "           |   RMSE |    AUC |  F1@20 | NCRR@20 | NDCG@20 | Precision@20 | Recall@20 | Time (s)\n",
      "---------- + ------ + ------ + ------ + ------- + ------- + ------------ + --------- + --------\n",
      "BPR(K=700) | 1.7814 | 0.9549 | 0.0624 |  0.0649 |  0.0771 |       0.0484 |    0.0975 | 237.2017\n",
      "\n",
      "TEST:\n",
      "...\n",
      "           |   RMSE |    AUC |  F1@20 | NCRR@20 | NDCG@20 | Precision@20 | Recall@20 | Train (s) | Test (s)\n",
      "---------- + ------ + ------ + ------ + ------- + ------- + ------------ + --------- + --------- + --------\n",
      "BPR(K=700) | 1.7818 | 0.9554 | 0.0624 |  0.0644 |  0.0769 |       0.0484 |    0.0977 | 1901.4817 | 237.6230\n",
      "\n",
      "\n",
      "[BPR(K=800)] Training started!\n"
     ]
    },
    {
     "data": {
      "application/vnd.jupyter.widget-view+json": {
       "model_id": "f730d8fc22e04f6a8e74aface87b6d73",
       "version_major": 2,
       "version_minor": 0
      },
      "text/plain": [
       "  0%|          | 0/100 [00:00<?, ?it/s]"
      ]
     },
     "metadata": {
      "tags": []
     },
     "output_type": "display_data"
    },
    {
     "name": "stdout",
     "output_type": "stream",
     "text": [
      "Optimization finished!\n",
      "\n",
      "[BPR(K=800)] Evaluation started!\n"
     ]
    },
    {
     "data": {
      "application/vnd.jupyter.widget-view+json": {
       "model_id": "833789064396457289dfae73a7db9cf4",
       "version_major": 2,
       "version_minor": 0
      },
      "text/plain": [
       "Rating:   0%|          | 0/597648 [00:00<?, ?it/s]"
      ]
     },
     "metadata": {
      "tags": []
     },
     "output_type": "display_data"
    },
    {
     "data": {
      "application/vnd.jupyter.widget-view+json": {
       "model_id": "b9056c694a15478f80f1a3dd3450ba87",
       "version_major": 2,
       "version_minor": 0
      },
      "text/plain": [
       "Ranking:   0%|          | 0/53408 [00:00<?, ?it/s]"
      ]
     },
     "metadata": {
      "tags": []
     },
     "output_type": "display_data"
    },
    {
     "data": {
      "application/vnd.jupyter.widget-view+json": {
       "model_id": "c84537b537b941b4aa17b96143ae37b5",
       "version_major": 2,
       "version_minor": 0
      },
      "text/plain": [
       "Rating:   0%|          | 0/597648 [00:00<?, ?it/s]"
      ]
     },
     "metadata": {
      "tags": []
     },
     "output_type": "display_data"
    },
    {
     "data": {
      "application/vnd.jupyter.widget-view+json": {
       "model_id": "82cbb6abfa724731a9d8c900686bfaaf",
       "version_major": 2,
       "version_minor": 0
      },
      "text/plain": [
       "Ranking:   0%|          | 0/53389 [00:00<?, ?it/s]"
      ]
     },
     "metadata": {
      "tags": []
     },
     "output_type": "display_data"
    },
    {
     "name": "stdout",
     "output_type": "stream",
     "text": [
      "\n",
      "VALIDATION:\n",
      "...\n",
      "           |   RMSE |    AUC |  F1@20 | NCRR@20 | NDCG@20 | Precision@20 | Recall@20 | Time (s)\n",
      "---------- + ------ + ------ + ------ + ------- + ------- + ------------ + --------- + --------\n",
      "BPR(K=800) | 1.7824 | 0.9548 | 0.0622 |  0.0644 |  0.0767 |       0.0483 |    0.0971 | 262.0378\n",
      "\n",
      "TEST:\n",
      "...\n",
      "           |   RMSE |    AUC |  F1@20 | NCRR@20 | NDCG@20 | Precision@20 | Recall@20 | Train (s) | Test (s)\n",
      "---------- + ------ + ------ + ------ + ------- + ------- + ------------ + --------- + --------- + --------\n",
      "BPR(K=800) | 1.7827 | 0.9553 | 0.0625 |  0.0644 |  0.0769 |       0.0485 |    0.0977 | 2170.7795 | 259.3479\n",
      "\n",
      "\n",
      "[BPR(K=900)] Training started!\n"
     ]
    },
    {
     "data": {
      "application/vnd.jupyter.widget-view+json": {
       "model_id": "dcfa516b9120479d8d526733df70cfb5",
       "version_major": 2,
       "version_minor": 0
      },
      "text/plain": [
       "  0%|          | 0/100 [00:00<?, ?it/s]"
      ]
     },
     "metadata": {
      "tags": []
     },
     "output_type": "display_data"
    },
    {
     "name": "stdout",
     "output_type": "stream",
     "text": [
      "Optimization finished!\n",
      "\n",
      "[BPR(K=900)] Evaluation started!\n"
     ]
    },
    {
     "data": {
      "application/vnd.jupyter.widget-view+json": {
       "model_id": "08ee72abed0e49d2a2fec6320f459d88",
       "version_major": 2,
       "version_minor": 0
      },
      "text/plain": [
       "Rating:   0%|          | 0/597648 [00:00<?, ?it/s]"
      ]
     },
     "metadata": {
      "tags": []
     },
     "output_type": "display_data"
    },
    {
     "data": {
      "application/vnd.jupyter.widget-view+json": {
       "model_id": "8130539fd6de4701bad0dace5831561a",
       "version_major": 2,
       "version_minor": 0
      },
      "text/plain": [
       "Ranking:   0%|          | 0/53408 [00:00<?, ?it/s]"
      ]
     },
     "metadata": {
      "tags": []
     },
     "output_type": "display_data"
    },
    {
     "data": {
      "application/vnd.jupyter.widget-view+json": {
       "model_id": "cb85638088ca4bc38481ee11d7f163a6",
       "version_major": 2,
       "version_minor": 0
      },
      "text/plain": [
       "Rating:   0%|          | 0/597648 [00:00<?, ?it/s]"
      ]
     },
     "metadata": {
      "tags": []
     },
     "output_type": "display_data"
    },
    {
     "data": {
      "application/vnd.jupyter.widget-view+json": {
       "model_id": "f7f28662b7024465910d336385b3448b",
       "version_major": 2,
       "version_minor": 0
      },
      "text/plain": [
       "Ranking:   0%|          | 0/53389 [00:00<?, ?it/s]"
      ]
     },
     "metadata": {
      "tags": []
     },
     "output_type": "display_data"
    },
    {
     "name": "stdout",
     "output_type": "stream",
     "text": [
      "\n",
      "VALIDATION:\n",
      "...\n",
      "           |   RMSE |    AUC |  F1@20 | NCRR@20 | NDCG@20 | Precision@20 | Recall@20 | Time (s)\n",
      "---------- + ------ + ------ + ------ + ------- + ------- + ------------ + --------- + --------\n",
      "BPR(K=900) | 1.7829 | 0.9547 | 0.0622 |  0.0647 |  0.0769 |       0.0482 |    0.0972 | 280.1589\n",
      "\n",
      "TEST:\n",
      "...\n",
      "           |   RMSE |    AUC |  F1@20 | NCRR@20 | NDCG@20 | Precision@20 | Recall@20 | Train (s) | Test (s)\n",
      "---------- + ------ + ------ + ------ + ------- + ------- + ------------ + --------- + --------- + --------\n",
      "BPR(K=900) | 1.7835 | 0.9551 | 0.0623 |  0.0644 |  0.0768 |       0.0483 |    0.0975 | 2600.4892 | 274.5567\n",
      "\n",
      "\n",
      "[BPR(K=1000)] Training started!\n"
     ]
    },
    {
     "data": {
      "application/vnd.jupyter.widget-view+json": {
       "model_id": "ce59f16c0853444d8ec8b312cd3a3ac2",
       "version_major": 2,
       "version_minor": 0
      },
      "text/plain": [
       "  0%|          | 0/100 [00:00<?, ?it/s]"
      ]
     },
     "metadata": {
      "tags": []
     },
     "output_type": "display_data"
    },
    {
     "name": "stdout",
     "output_type": "stream",
     "text": [
      "Optimization finished!\n",
      "\n",
      "[BPR(K=1000)] Evaluation started!\n"
     ]
    },
    {
     "data": {
      "application/vnd.jupyter.widget-view+json": {
       "model_id": "76109f2bf6c049e49f0f19f6a0f2d44a",
       "version_major": 2,
       "version_minor": 0
      },
      "text/plain": [
       "Rating:   0%|          | 0/597648 [00:00<?, ?it/s]"
      ]
     },
     "metadata": {
      "tags": []
     },
     "output_type": "display_data"
    },
    {
     "data": {
      "application/vnd.jupyter.widget-view+json": {
       "model_id": "a1e7ee8abebc4c9b80eeb140569a0326",
       "version_major": 2,
       "version_minor": 0
      },
      "text/plain": [
       "Ranking:   0%|          | 0/53408 [00:00<?, ?it/s]"
      ]
     },
     "metadata": {
      "tags": []
     },
     "output_type": "display_data"
    },
    {
     "data": {
      "application/vnd.jupyter.widget-view+json": {
       "model_id": "d6dd24e22c9745258263c7e224fc36f0",
       "version_major": 2,
       "version_minor": 0
      },
      "text/plain": [
       "Rating:   0%|          | 0/597648 [00:00<?, ?it/s]"
      ]
     },
     "metadata": {
      "tags": []
     },
     "output_type": "display_data"
    },
    {
     "data": {
      "application/vnd.jupyter.widget-view+json": {
       "model_id": "85ca0354e0af4233886a2b197811c45c",
       "version_major": 2,
       "version_minor": 0
      },
      "text/plain": [
       "Ranking:   0%|          | 0/53389 [00:00<?, ?it/s]"
      ]
     },
     "metadata": {
      "tags": []
     },
     "output_type": "display_data"
    },
    {
     "name": "stdout",
     "output_type": "stream",
     "text": [
      "\n",
      "VALIDATION:\n",
      "...\n",
      "            |   RMSE |    AUC |  F1@20 | NCRR@20 | NDCG@20 | Precision@20 | Recall@20 | Time (s)\n",
      "----------- + ------ + ------ + ------ + ------- + ------- + ------------ + --------- + --------\n",
      "BPR(K=1000) | 1.7834 | 0.9547 | 0.0623 |  0.0648 |  0.0770 |       0.0483 |    0.0972 | 297.5461\n",
      "\n",
      "TEST:\n",
      "...\n",
      "            |   RMSE |    AUC |  F1@20 | NCRR@20 | NDCG@20 | Precision@20 | Recall@20 | Train (s) | Test (s)\n",
      "----------- + ------ + ------ + ------ + ------- + ------- + ------------ + --------- + --------- + --------\n",
      "BPR(K=1000) | 1.7841 | 0.9551 | 0.0626 |  0.0647 |  0.0771 |       0.0486 |    0.0979 | 2656.9565 | 299.3593\n",
      "\n",
      "\n",
      "[BPR(K=1100)] Training started!\n"
     ]
    },
    {
     "data": {
      "application/vnd.jupyter.widget-view+json": {
       "model_id": "3b818131366b4f6ca9333327de4be37f",
       "version_major": 2,
       "version_minor": 0
      },
      "text/plain": [
       "  0%|          | 0/100 [00:00<?, ?it/s]"
      ]
     },
     "metadata": {
      "tags": []
     },
     "output_type": "display_data"
    },
    {
     "name": "stdout",
     "output_type": "stream",
     "text": [
      "Optimization finished!\n",
      "\n",
      "[BPR(K=1100)] Evaluation started!\n"
     ]
    },
    {
     "data": {
      "application/vnd.jupyter.widget-view+json": {
       "model_id": "bb791598b7cf418aba2eee385d9db4f8",
       "version_major": 2,
       "version_minor": 0
      },
      "text/plain": [
       "Rating:   0%|          | 0/597648 [00:00<?, ?it/s]"
      ]
     },
     "metadata": {
      "tags": []
     },
     "output_type": "display_data"
    },
    {
     "data": {
      "application/vnd.jupyter.widget-view+json": {
       "model_id": "f9371e41dff547a097bfa38c7f9cef1c",
       "version_major": 2,
       "version_minor": 0
      },
      "text/plain": [
       "Ranking:   0%|          | 0/53408 [00:00<?, ?it/s]"
      ]
     },
     "metadata": {
      "tags": []
     },
     "output_type": "display_data"
    },
    {
     "data": {
      "application/vnd.jupyter.widget-view+json": {
       "model_id": "14cbee9deb4e4053b7c64c96f3dd04ef",
       "version_major": 2,
       "version_minor": 0
      },
      "text/plain": [
       "Rating:   0%|          | 0/597648 [00:00<?, ?it/s]"
      ]
     },
     "metadata": {
      "tags": []
     },
     "output_type": "display_data"
    },
    {
     "data": {
      "application/vnd.jupyter.widget-view+json": {
       "model_id": "745beed2b12b43c9840e219f943ff766",
       "version_major": 2,
       "version_minor": 0
      },
      "text/plain": [
       "Ranking:   0%|          | 0/53389 [00:00<?, ?it/s]"
      ]
     },
     "metadata": {
      "tags": []
     },
     "output_type": "display_data"
    },
    {
     "name": "stdout",
     "output_type": "stream",
     "text": [
      "\n",
      "VALIDATION:\n",
      "...\n",
      "            |   RMSE |    AUC |  F1@20 | NCRR@20 | NDCG@20 | Precision@20 | Recall@20 | Time (s)\n",
      "----------- + ------ + ------ + ------ + ------- + ------- + ------------ + --------- + --------\n",
      "BPR(K=1100) | 1.7841 | 0.9545 | 0.0618 |  0.0641 |  0.0763 |       0.0480 |    0.0966 | 288.8419\n",
      "\n",
      "TEST:\n",
      "...\n",
      "            |   RMSE |    AUC |  F1@20 | NCRR@20 | NDCG@20 | Precision@20 | Recall@20 | Train (s) | Test (s)\n",
      "----------- + ------ + ------ + ------ + ------- + ------- + ------------ + --------- + --------- + --------\n",
      "BPR(K=1100) | 1.7843 | 0.9550 | 0.0620 |  0.0644 |  0.0766 |       0.0481 |    0.0970 | 2906.9847 | 287.2576\n",
      "\n",
      "\n",
      "[BPR(K=1200)] Training started!\n"
     ]
    },
    {
     "data": {
      "application/vnd.jupyter.widget-view+json": {
       "model_id": "fbf759515b9548b7a90432b88bfd8e9c",
       "version_major": 2,
       "version_minor": 0
      },
      "text/plain": [
       "  0%|          | 0/100 [00:00<?, ?it/s]"
      ]
     },
     "metadata": {
      "tags": []
     },
     "output_type": "display_data"
    },
    {
     "name": "stdout",
     "output_type": "stream",
     "text": [
      "Optimization finished!\n",
      "\n",
      "[BPR(K=1200)] Evaluation started!\n"
     ]
    },
    {
     "data": {
      "application/vnd.jupyter.widget-view+json": {
       "model_id": "bff123e4db9d48c386ba455178f5661d",
       "version_major": 2,
       "version_minor": 0
      },
      "text/plain": [
       "Rating:   0%|          | 0/597648 [00:00<?, ?it/s]"
      ]
     },
     "metadata": {
      "tags": []
     },
     "output_type": "display_data"
    },
    {
     "data": {
      "application/vnd.jupyter.widget-view+json": {
       "model_id": "a27e4fcc2e1e4f258f4685e97d3f3984",
       "version_major": 2,
       "version_minor": 0
      },
      "text/plain": [
       "Ranking:   0%|          | 0/53408 [00:00<?, ?it/s]"
      ]
     },
     "metadata": {
      "tags": []
     },
     "output_type": "display_data"
    },
    {
     "data": {
      "application/vnd.jupyter.widget-view+json": {
       "model_id": "7ce83485927743f9a1730c9d02c44f26",
       "version_major": 2,
       "version_minor": 0
      },
      "text/plain": [
       "Rating:   0%|          | 0/597648 [00:00<?, ?it/s]"
      ]
     },
     "metadata": {
      "tags": []
     },
     "output_type": "display_data"
    },
    {
     "data": {
      "application/vnd.jupyter.widget-view+json": {
       "model_id": "e5db6e8245ec4342accbfcf44934eea3",
       "version_major": 2,
       "version_minor": 0
      },
      "text/plain": [
       "Ranking:   0%|          | 0/53389 [00:00<?, ?it/s]"
      ]
     },
     "metadata": {
      "tags": []
     },
     "output_type": "display_data"
    },
    {
     "name": "stdout",
     "output_type": "stream",
     "text": [
      "\n",
      "VALIDATION:\n",
      "...\n",
      "            |   RMSE |    AUC |  F1@20 | NCRR@20 | NDCG@20 | Precision@20 | Recall@20 | Time (s)\n",
      "----------- + ------ + ------ + ------ + ------- + ------- + ------------ + --------- + --------\n",
      "BPR(K=1200) | 1.7840 | 0.9545 | 0.0623 |  0.0648 |  0.0770 |       0.0483 |    0.0972 | 297.4835\n",
      "\n",
      "TEST:\n",
      "...\n",
      "            |   RMSE |    AUC |  F1@20 | NCRR@20 | NDCG@20 | Precision@20 | Recall@20 | Train (s) | Test (s)\n",
      "----------- + ------ + ------ + ------ + ------- + ------- + ------------ + --------- + --------- + --------\n",
      "BPR(K=1200) | 1.7846 | 0.9549 | 0.0623 |  0.0640 |  0.0766 |       0.0484 |    0.0975 | 2905.7853 | 312.4053\n",
      "\n",
      "\n",
      "[BPR(K=1300)] Training started!\n"
     ]
    },
    {
     "data": {
      "application/vnd.jupyter.widget-view+json": {
       "model_id": "90361d8db5f4493aa289ffd671fdb023",
       "version_major": 2,
       "version_minor": 0
      },
      "text/plain": [
       "  0%|          | 0/100 [00:00<?, ?it/s]"
      ]
     },
     "metadata": {
      "tags": []
     },
     "output_type": "display_data"
    },
    {
     "name": "stdout",
     "output_type": "stream",
     "text": [
      "Optimization finished!\n",
      "\n",
      "[BPR(K=1300)] Evaluation started!\n"
     ]
    },
    {
     "data": {
      "application/vnd.jupyter.widget-view+json": {
       "model_id": "82cb5fd9c5474633b898ebfddb63eded",
       "version_major": 2,
       "version_minor": 0
      },
      "text/plain": [
       "Rating:   0%|          | 0/597648 [00:00<?, ?it/s]"
      ]
     },
     "metadata": {
      "tags": []
     },
     "output_type": "display_data"
    },
    {
     "data": {
      "application/vnd.jupyter.widget-view+json": {
       "model_id": "2401282798d04e25998b23ae581dfa94",
       "version_major": 2,
       "version_minor": 0
      },
      "text/plain": [
       "Ranking:   0%|          | 0/53408 [00:00<?, ?it/s]"
      ]
     },
     "metadata": {
      "tags": []
     },
     "output_type": "display_data"
    },
    {
     "data": {
      "application/vnd.jupyter.widget-view+json": {
       "model_id": "59aa58525fb345caa8884a9a16c265c7",
       "version_major": 2,
       "version_minor": 0
      },
      "text/plain": [
       "Rating:   0%|          | 0/597648 [00:00<?, ?it/s]"
      ]
     },
     "metadata": {
      "tags": []
     },
     "output_type": "display_data"
    },
    {
     "data": {
      "application/vnd.jupyter.widget-view+json": {
       "model_id": "e1af7a2cc6304494996e3bf0a0da14d0",
       "version_major": 2,
       "version_minor": 0
      },
      "text/plain": [
       "Ranking:   0%|          | 0/53389 [00:00<?, ?it/s]"
      ]
     },
     "metadata": {
      "tags": []
     },
     "output_type": "display_data"
    },
    {
     "name": "stdout",
     "output_type": "stream",
     "text": [
      "\n",
      "VALIDATION:\n",
      "...\n",
      "            |   RMSE |    AUC |  F1@20 | NCRR@20 | NDCG@20 | Precision@20 | Recall@20 | Time (s)\n",
      "----------- + ------ + ------ + ------ + ------- + ------- + ------------ + --------- + --------\n",
      "BPR(K=1300) | 1.7843 | 0.9544 | 0.0620 |  0.0642 |  0.0764 |       0.0481 |    0.0967 | 319.5546\n",
      "\n",
      "TEST:\n",
      "...\n",
      "            |   RMSE |    AUC |  F1@20 | NCRR@20 | NDCG@20 | Precision@20 | Recall@20 | Train (s) | Test (s)\n",
      "----------- + ------ + ------ + ------ + ------- + ------- + ------------ + --------- + --------- + --------\n",
      "BPR(K=1300) | 1.7847 | 0.9548 | 0.0621 |  0.0642 |  0.0765 |       0.0482 |    0.0970 | 3139.6227 | 317.3656\n",
      "\n",
      "\n",
      "[BPR(K=1400)] Training started!\n"
     ]
    },
    {
     "data": {
      "application/vnd.jupyter.widget-view+json": {
       "model_id": "a7f78813c1a54a2ea6a105727f8ee3e6",
       "version_major": 2,
       "version_minor": 0
      },
      "text/plain": [
       "  0%|          | 0/100 [00:00<?, ?it/s]"
      ]
     },
     "metadata": {
      "tags": []
     },
     "output_type": "display_data"
    },
    {
     "name": "stdout",
     "output_type": "stream",
     "text": [
      "Optimization finished!\n",
      "\n",
      "[BPR(K=1400)] Evaluation started!\n"
     ]
    },
    {
     "data": {
      "application/vnd.jupyter.widget-view+json": {
       "model_id": "700f4799e8ca456e95d2c252ca870663",
       "version_major": 2,
       "version_minor": 0
      },
      "text/plain": [
       "Rating:   0%|          | 0/597648 [00:00<?, ?it/s]"
      ]
     },
     "metadata": {
      "tags": []
     },
     "output_type": "display_data"
    },
    {
     "data": {
      "application/vnd.jupyter.widget-view+json": {
       "model_id": "5a2b0d6210194dae89a9375a688543dc",
       "version_major": 2,
       "version_minor": 0
      },
      "text/plain": [
       "Ranking:   0%|          | 0/53408 [00:00<?, ?it/s]"
      ]
     },
     "metadata": {
      "tags": []
     },
     "output_type": "display_data"
    },
    {
     "data": {
      "application/vnd.jupyter.widget-view+json": {
       "model_id": "b625621d8d534b0990a3424244c716eb",
       "version_major": 2,
       "version_minor": 0
      },
      "text/plain": [
       "Rating:   0%|          | 0/597648 [00:00<?, ?it/s]"
      ]
     },
     "metadata": {
      "tags": []
     },
     "output_type": "display_data"
    },
    {
     "data": {
      "application/vnd.jupyter.widget-view+json": {
       "model_id": "41c18186388347bfa319969e3a95cd34",
       "version_major": 2,
       "version_minor": 0
      },
      "text/plain": [
       "Ranking:   0%|          | 0/53389 [00:00<?, ?it/s]"
      ]
     },
     "metadata": {
      "tags": []
     },
     "output_type": "display_data"
    },
    {
     "name": "stdout",
     "output_type": "stream",
     "text": [
      "\n",
      "VALIDATION:\n",
      "...\n",
      "            |   RMSE |    AUC |  F1@20 | NCRR@20 | NDCG@20 | Precision@20 | Recall@20 | Time (s)\n",
      "----------- + ------ + ------ + ------ + ------- + ------- + ------------ + --------- + --------\n",
      "BPR(K=1400) | 1.7843 | 0.9544 | 0.0620 |  0.0644 |  0.0766 |       0.0481 |    0.0969 | 321.8477\n",
      "\n",
      "TEST:\n",
      "...\n",
      "            |   RMSE |    AUC |  F1@20 | NCRR@20 | NDCG@20 | Precision@20 | Recall@20 | Train (s) | Test (s)\n",
      "----------- + ------ + ------ + ------ + ------- + ------- + ------------ + --------- + --------- + --------\n",
      "BPR(K=1400) | 1.7848 | 0.9548 | 0.0618 |  0.0638 |  0.0762 |       0.0480 |    0.0966 | 3418.7811 | 321.2503\n",
      "\n"
     ]
    }
   ],
   "source": [
    "for K in range(100, 10000, 100):\n",
    "    bpr = BPR(k=K, max_iter=1000, learning_rate=0.01, lambda_reg=0.01, \n",
    "                      verbose=VERBOSE, seed=SEED, name=f\"BPR(K={K})\")\n",
    "\n",
    "    eval_metrics = [\n",
    "      cornac.metrics.RMSE(), \n",
    "      cornac.metrics.AUC(),\n",
    "      cornac.metrics.Precision(k=20),\n",
    "      cornac.metrics.Recall(k=20),\n",
    "      cornac.metrics.FMeasure(k=20),\n",
    "      cornac.metrics.NDCG(k=20),\n",
    "      cornac.metrics.NCRR(k=20)\n",
    "    ]\n",
    "\n",
    "    cornac.Experiment(eval_method=rs, models=[bpr], metrics=eval_metrics).run()"
   ]
  },
  {
   "cell_type": "markdown",
   "metadata": {
    "id": "88bbf45d"
   },
   "source": [
    "#### Tag preprocessing"
   ]
  },
  {
   "cell_type": "code",
   "execution_count": null,
   "metadata": {
    "id": "445b4173",
    "outputId": "388cee29-9216-4eae-96b6-4d61c97d4238"
   },
   "outputs": [
    {
     "data": {
      "text/html": [
       "<div>\n",
       "<style scoped>\n",
       "    .dataframe tbody tr th:only-of-type {\n",
       "        vertical-align: middle;\n",
       "    }\n",
       "\n",
       "    .dataframe tbody tr th {\n",
       "        vertical-align: top;\n",
       "    }\n",
       "\n",
       "    .dataframe thead th {\n",
       "        text-align: right;\n",
       "    }\n",
       "</style>\n",
       "<table border=\"1\" class=\"dataframe\">\n",
       "  <thead>\n",
       "    <tr style=\"text-align: right;\">\n",
       "      <th></th>\n",
       "      <th>genre</th>\n",
       "      <th>tag_id</th>\n",
       "    </tr>\n",
       "  </thead>\n",
       "  <tbody>\n",
       "    <tr>\n",
       "      <th>0</th>\n",
       "      <td>fantasy</td>\n",
       "      <td>1</td>\n",
       "    </tr>\n",
       "    <tr>\n",
       "      <th>1</th>\n",
       "      <td>young adult</td>\n",
       "      <td>2</td>\n",
       "    </tr>\n",
       "    <tr>\n",
       "      <th>2</th>\n",
       "      <td>fiction</td>\n",
       "      <td>3</td>\n",
       "    </tr>\n",
       "    <tr>\n",
       "      <th>3</th>\n",
       "      <td>classics</td>\n",
       "      <td>4</td>\n",
       "    </tr>\n",
       "    <tr>\n",
       "      <th>4</th>\n",
       "      <td>paranormal</td>\n",
       "      <td>5</td>\n",
       "    </tr>\n",
       "  </tbody>\n",
       "</table>\n",
       "</div>"
      ],
      "text/plain": [
       "         genre  tag_id\n",
       "0      fantasy       1\n",
       "1  young adult       2\n",
       "2      fiction       3\n",
       "3     classics       4\n",
       "4   paranormal       5"
      ]
     },
     "execution_count": 6,
     "metadata": {
      "tags": []
     },
     "output_type": "execute_result"
    }
   ],
   "source": [
    "# create a new dataframe, with column tag name and tag id\n",
    "tag_df = pd.DataFrame()\n",
    "tag_df['genre'] = book_genre['genre'].unique()\n",
    "tag_df['tag_id'] = range(1, book_genre['genre'].nunique()+1)\n",
    "tag_df.head()"
   ]
  },
  {
   "cell_type": "code",
   "execution_count": null,
   "metadata": {
    "id": "c06bbc65",
    "outputId": "f4a1da93-27ba-489d-99bb-94c24b851d0a"
   },
   "outputs": [
    {
     "data": {
      "text/html": [
       "<div>\n",
       "<style scoped>\n",
       "    .dataframe tbody tr th:only-of-type {\n",
       "        vertical-align: middle;\n",
       "    }\n",
       "\n",
       "    .dataframe tbody tr th {\n",
       "        vertical-align: top;\n",
       "    }\n",
       "\n",
       "    .dataframe thead th {\n",
       "        text-align: right;\n",
       "    }\n",
       "</style>\n",
       "<table border=\"1\" class=\"dataframe\">\n",
       "  <thead>\n",
       "    <tr style=\"text-align: right;\">\n",
       "      <th></th>\n",
       "      <th>goodreads_book_id</th>\n",
       "      <th>tag_id</th>\n",
       "    </tr>\n",
       "    <tr>\n",
       "      <th>book_id</th>\n",
       "      <th></th>\n",
       "      <th></th>\n",
       "    </tr>\n",
       "  </thead>\n",
       "  <tbody>\n",
       "    <tr>\n",
       "      <th>27</th>\n",
       "      <td>1</td>\n",
       "      <td>{1, 2, 3, 4, 5, 6, 7, 8, 9}</td>\n",
       "    </tr>\n",
       "    <tr>\n",
       "      <th>21</th>\n",
       "      <td>2</td>\n",
       "      <td>{1, 2, 3, 5, 6, 7, 9}</td>\n",
       "    </tr>\n",
       "    <tr>\n",
       "      <th>2</th>\n",
       "      <td>3</td>\n",
       "      <td>{1, 2, 3, 4, 5, 6, 8, 9}</td>\n",
       "    </tr>\n",
       "    <tr>\n",
       "      <th>18</th>\n",
       "      <td>5</td>\n",
       "      <td>{1, 2, 3, 4, 5, 6, 8, 9, 10}</td>\n",
       "    </tr>\n",
       "    <tr>\n",
       "      <th>24</th>\n",
       "      <td>6</td>\n",
       "      <td>{1, 2, 3, 4, 5, 6, 8, 9}</td>\n",
       "    </tr>\n",
       "  </tbody>\n",
       "</table>\n",
       "</div>"
      ],
      "text/plain": [
       "         goodreads_book_id                        tag_id\n",
       "book_id                                                 \n",
       "27                       1   {1, 2, 3, 4, 5, 6, 7, 8, 9}\n",
       "21                       2         {1, 2, 3, 5, 6, 7, 9}\n",
       "2                        3      {1, 2, 3, 4, 5, 6, 8, 9}\n",
       "18                       5  {1, 2, 3, 4, 5, 6, 8, 9, 10}\n",
       "24                       6      {1, 2, 3, 4, 5, 6, 8, 9}"
      ]
     },
     "execution_count": 7,
     "metadata": {
      "tags": []
     },
     "output_type": "execute_result"
    }
   ],
   "source": [
    "book_tag = pd.merge(book_genre, tag_df, on='genre').sort_values(by=['goodreads_book_id'])\n",
    "\n",
    "# create a new dataframe, with column user, book and tag id\n",
    "book_tag_list = pd.DataFrame(book_tag.groupby('goodreads_book_id')['tag_id'].apply(set)).reset_index()\n",
    "\n",
    "# user, book\n",
    "user_book = r[['user_id', 'book_id']]\n",
    "user_book.head()\n",
    "\n",
    "# book id, goodread id mapping\n",
    "book_goodread_id = b[['book_id', 'goodreads_book_id']] \n",
    "\n",
    "mapping = pd.merge(book_tag_list, book_goodread_id, on='goodreads_book_id')\n",
    "mapping.set_index('book_id', inplace=True)\n",
    "mapping.head()"
   ]
  },
  {
   "cell_type": "markdown",
   "metadata": {
    "id": "93cea4b1"
   },
   "source": [
    "#### Prepare item df table for data visualisation"
   ]
  },
  {
   "cell_type": "code",
   "execution_count": null,
   "metadata": {
    "id": "6093d874",
    "outputId": "fdc5d7ee-2310-4dc8-fd80-81f960d1e393"
   },
   "outputs": [
    {
     "data": {
      "text/html": [
       "<div>\n",
       "<style scoped>\n",
       "    .dataframe tbody tr th:only-of-type {\n",
       "        vertical-align: middle;\n",
       "    }\n",
       "\n",
       "    .dataframe tbody tr th {\n",
       "        vertical-align: top;\n",
       "    }\n",
       "\n",
       "    .dataframe thead th {\n",
       "        text-align: right;\n",
       "    }\n",
       "</style>\n",
       "<table border=\"1\" class=\"dataframe\">\n",
       "  <thead>\n",
       "    <tr style=\"text-align: right;\">\n",
       "      <th></th>\n",
       "      <th>1</th>\n",
       "      <th>2</th>\n",
       "      <th>3</th>\n",
       "      <th>4</th>\n",
       "      <th>5</th>\n",
       "      <th>6</th>\n",
       "      <th>7</th>\n",
       "      <th>8</th>\n",
       "      <th>9</th>\n",
       "      <th>10</th>\n",
       "      <th>...</th>\n",
       "      <th>27</th>\n",
       "      <th>28</th>\n",
       "      <th>29</th>\n",
       "      <th>30</th>\n",
       "      <th>31</th>\n",
       "      <th>32</th>\n",
       "      <th>33</th>\n",
       "      <th>34</th>\n",
       "      <th>35</th>\n",
       "      <th>36</th>\n",
       "    </tr>\n",
       "    <tr>\n",
       "      <th>book_id</th>\n",
       "      <th></th>\n",
       "      <th></th>\n",
       "      <th></th>\n",
       "      <th></th>\n",
       "      <th></th>\n",
       "      <th></th>\n",
       "      <th></th>\n",
       "      <th></th>\n",
       "      <th></th>\n",
       "      <th></th>\n",
       "      <th></th>\n",
       "      <th></th>\n",
       "      <th></th>\n",
       "      <th></th>\n",
       "      <th></th>\n",
       "      <th></th>\n",
       "      <th></th>\n",
       "      <th></th>\n",
       "      <th></th>\n",
       "      <th></th>\n",
       "      <th></th>\n",
       "    </tr>\n",
       "  </thead>\n",
       "  <tbody>\n",
       "    <tr>\n",
       "      <th>27</th>\n",
       "      <td>0</td>\n",
       "      <td>0</td>\n",
       "      <td>0</td>\n",
       "      <td>0</td>\n",
       "      <td>0</td>\n",
       "      <td>0</td>\n",
       "      <td>0</td>\n",
       "      <td>0</td>\n",
       "      <td>0</td>\n",
       "      <td>0</td>\n",
       "      <td>...</td>\n",
       "      <td>0</td>\n",
       "      <td>0</td>\n",
       "      <td>0</td>\n",
       "      <td>0</td>\n",
       "      <td>0</td>\n",
       "      <td>0</td>\n",
       "      <td>0</td>\n",
       "      <td>0</td>\n",
       "      <td>0</td>\n",
       "      <td>0</td>\n",
       "    </tr>\n",
       "    <tr>\n",
       "      <th>21</th>\n",
       "      <td>0</td>\n",
       "      <td>0</td>\n",
       "      <td>0</td>\n",
       "      <td>0</td>\n",
       "      <td>0</td>\n",
       "      <td>0</td>\n",
       "      <td>0</td>\n",
       "      <td>0</td>\n",
       "      <td>0</td>\n",
       "      <td>0</td>\n",
       "      <td>...</td>\n",
       "      <td>0</td>\n",
       "      <td>0</td>\n",
       "      <td>0</td>\n",
       "      <td>0</td>\n",
       "      <td>0</td>\n",
       "      <td>0</td>\n",
       "      <td>0</td>\n",
       "      <td>0</td>\n",
       "      <td>0</td>\n",
       "      <td>0</td>\n",
       "    </tr>\n",
       "    <tr>\n",
       "      <th>2</th>\n",
       "      <td>0</td>\n",
       "      <td>0</td>\n",
       "      <td>0</td>\n",
       "      <td>0</td>\n",
       "      <td>0</td>\n",
       "      <td>0</td>\n",
       "      <td>0</td>\n",
       "      <td>0</td>\n",
       "      <td>0</td>\n",
       "      <td>0</td>\n",
       "      <td>...</td>\n",
       "      <td>0</td>\n",
       "      <td>0</td>\n",
       "      <td>0</td>\n",
       "      <td>0</td>\n",
       "      <td>0</td>\n",
       "      <td>0</td>\n",
       "      <td>0</td>\n",
       "      <td>0</td>\n",
       "      <td>0</td>\n",
       "      <td>0</td>\n",
       "    </tr>\n",
       "    <tr>\n",
       "      <th>18</th>\n",
       "      <td>0</td>\n",
       "      <td>0</td>\n",
       "      <td>0</td>\n",
       "      <td>0</td>\n",
       "      <td>0</td>\n",
       "      <td>0</td>\n",
       "      <td>0</td>\n",
       "      <td>0</td>\n",
       "      <td>0</td>\n",
       "      <td>0</td>\n",
       "      <td>...</td>\n",
       "      <td>0</td>\n",
       "      <td>0</td>\n",
       "      <td>0</td>\n",
       "      <td>0</td>\n",
       "      <td>0</td>\n",
       "      <td>0</td>\n",
       "      <td>0</td>\n",
       "      <td>0</td>\n",
       "      <td>0</td>\n",
       "      <td>0</td>\n",
       "    </tr>\n",
       "    <tr>\n",
       "      <th>24</th>\n",
       "      <td>0</td>\n",
       "      <td>0</td>\n",
       "      <td>0</td>\n",
       "      <td>0</td>\n",
       "      <td>0</td>\n",
       "      <td>0</td>\n",
       "      <td>0</td>\n",
       "      <td>0</td>\n",
       "      <td>0</td>\n",
       "      <td>0</td>\n",
       "      <td>...</td>\n",
       "      <td>0</td>\n",
       "      <td>0</td>\n",
       "      <td>0</td>\n",
       "      <td>0</td>\n",
       "      <td>0</td>\n",
       "      <td>0</td>\n",
       "      <td>0</td>\n",
       "      <td>0</td>\n",
       "      <td>0</td>\n",
       "      <td>0</td>\n",
       "    </tr>\n",
       "  </tbody>\n",
       "</table>\n",
       "<p>5 rows × 36 columns</p>\n",
       "</div>"
      ],
      "text/plain": [
       "         1   2   3   4   5   6   7   8   9   10  ...  27  28  29  30  31  32  \\\n",
       "book_id                                          ...                           \n",
       "27        0   0   0   0   0   0   0   0   0   0  ...   0   0   0   0   0   0   \n",
       "21        0   0   0   0   0   0   0   0   0   0  ...   0   0   0   0   0   0   \n",
       "2         0   0   0   0   0   0   0   0   0   0  ...   0   0   0   0   0   0   \n",
       "18        0   0   0   0   0   0   0   0   0   0  ...   0   0   0   0   0   0   \n",
       "24        0   0   0   0   0   0   0   0   0   0  ...   0   0   0   0   0   0   \n",
       "\n",
       "         33  34  35  36  \n",
       "book_id                  \n",
       "27        0   0   0   0  \n",
       "21        0   0   0   0  \n",
       "2         0   0   0   0  \n",
       "18        0   0   0   0  \n",
       "24        0   0   0   0  \n",
       "\n",
       "[5 rows x 36 columns]"
      ]
     },
     "execution_count": 8,
     "metadata": {
      "tags": []
     },
     "output_type": "execute_result"
    }
   ],
   "source": [
    "book_df = b[['book_id', 'authors', 'original_publication_year', 'title', 'language_code']]\n",
    "book_df.head()\n",
    "temp = pd.DataFrame()\n",
    "temp['book_id'] = mapping.index\n",
    "for i in range(1,len(tag_df)+1):\n",
    "    temp[i] = 0\n",
    "temp.set_index('book_id', inplace=True)\n",
    "temp.head()"
   ]
  },
  {
   "cell_type": "code",
   "execution_count": null,
   "metadata": {
    "id": "936b3a67"
   },
   "outputs": [],
   "source": [
    "for i in mapping.index:\n",
    "    for x in mapping.loc[i]['tag_id']:\n",
    "        temp.loc[i][x] = 1"
   ]
  },
  {
   "cell_type": "code",
   "execution_count": null,
   "metadata": {
    "id": "e61a3cd5",
    "outputId": "c9ce1230-7412-4c2a-a790-86e64cc7b383"
   },
   "outputs": [
    {
     "data": {
      "text/html": [
       "<div>\n",
       "<style scoped>\n",
       "    .dataframe tbody tr th:only-of-type {\n",
       "        vertical-align: middle;\n",
       "    }\n",
       "\n",
       "    .dataframe tbody tr th {\n",
       "        vertical-align: top;\n",
       "    }\n",
       "\n",
       "    .dataframe thead th {\n",
       "        text-align: right;\n",
       "    }\n",
       "</style>\n",
       "<table border=\"1\" class=\"dataframe\">\n",
       "  <thead>\n",
       "    <tr style=\"text-align: right;\">\n",
       "      <th></th>\n",
       "      <th>book_id</th>\n",
       "      <th>authors</th>\n",
       "      <th>original_publication_year</th>\n",
       "      <th>title</th>\n",
       "      <th>language_code</th>\n",
       "      <th>1</th>\n",
       "      <th>2</th>\n",
       "      <th>3</th>\n",
       "      <th>4</th>\n",
       "      <th>5</th>\n",
       "      <th>...</th>\n",
       "      <th>27</th>\n",
       "      <th>28</th>\n",
       "      <th>29</th>\n",
       "      <th>30</th>\n",
       "      <th>31</th>\n",
       "      <th>32</th>\n",
       "      <th>33</th>\n",
       "      <th>34</th>\n",
       "      <th>35</th>\n",
       "      <th>36</th>\n",
       "    </tr>\n",
       "  </thead>\n",
       "  <tbody>\n",
       "    <tr>\n",
       "      <th>0</th>\n",
       "      <td>1</td>\n",
       "      <td>Suzanne Collins</td>\n",
       "      <td>2008.0</td>\n",
       "      <td>The Hunger Games (The Hunger Games, #1)</td>\n",
       "      <td>eng</td>\n",
       "      <td>1</td>\n",
       "      <td>1</td>\n",
       "      <td>1</td>\n",
       "      <td>0</td>\n",
       "      <td>0</td>\n",
       "      <td>...</td>\n",
       "      <td>0</td>\n",
       "      <td>0</td>\n",
       "      <td>0</td>\n",
       "      <td>0</td>\n",
       "      <td>0</td>\n",
       "      <td>0</td>\n",
       "      <td>0</td>\n",
       "      <td>0</td>\n",
       "      <td>0</td>\n",
       "      <td>0</td>\n",
       "    </tr>\n",
       "    <tr>\n",
       "      <th>1</th>\n",
       "      <td>2</td>\n",
       "      <td>J.K. Rowling, Mary GrandPré</td>\n",
       "      <td>1997.0</td>\n",
       "      <td>Harry Potter and the Sorcerer's Stone (Harry P...</td>\n",
       "      <td>eng</td>\n",
       "      <td>1</td>\n",
       "      <td>1</td>\n",
       "      <td>1</td>\n",
       "      <td>1</td>\n",
       "      <td>1</td>\n",
       "      <td>...</td>\n",
       "      <td>0</td>\n",
       "      <td>0</td>\n",
       "      <td>0</td>\n",
       "      <td>0</td>\n",
       "      <td>0</td>\n",
       "      <td>0</td>\n",
       "      <td>0</td>\n",
       "      <td>0</td>\n",
       "      <td>0</td>\n",
       "      <td>0</td>\n",
       "    </tr>\n",
       "    <tr>\n",
       "      <th>2</th>\n",
       "      <td>3</td>\n",
       "      <td>Stephenie Meyer</td>\n",
       "      <td>2005.0</td>\n",
       "      <td>Twilight (Twilight, #1)</td>\n",
       "      <td>en-US</td>\n",
       "      <td>1</td>\n",
       "      <td>1</td>\n",
       "      <td>1</td>\n",
       "      <td>0</td>\n",
       "      <td>1</td>\n",
       "      <td>...</td>\n",
       "      <td>0</td>\n",
       "      <td>0</td>\n",
       "      <td>0</td>\n",
       "      <td>0</td>\n",
       "      <td>1</td>\n",
       "      <td>0</td>\n",
       "      <td>0</td>\n",
       "      <td>0</td>\n",
       "      <td>0</td>\n",
       "      <td>0</td>\n",
       "    </tr>\n",
       "    <tr>\n",
       "      <th>3</th>\n",
       "      <td>4</td>\n",
       "      <td>Harper Lee</td>\n",
       "      <td>1960.0</td>\n",
       "      <td>To Kill a Mockingbird</td>\n",
       "      <td>eng</td>\n",
       "      <td>0</td>\n",
       "      <td>1</td>\n",
       "      <td>1</td>\n",
       "      <td>1</td>\n",
       "      <td>0</td>\n",
       "      <td>...</td>\n",
       "      <td>0</td>\n",
       "      <td>0</td>\n",
       "      <td>0</td>\n",
       "      <td>0</td>\n",
       "      <td>0</td>\n",
       "      <td>0</td>\n",
       "      <td>0</td>\n",
       "      <td>0</td>\n",
       "      <td>0</td>\n",
       "      <td>0</td>\n",
       "    </tr>\n",
       "    <tr>\n",
       "      <th>4</th>\n",
       "      <td>5</td>\n",
       "      <td>F. Scott Fitzgerald</td>\n",
       "      <td>1925.0</td>\n",
       "      <td>The Great Gatsby</td>\n",
       "      <td>eng</td>\n",
       "      <td>0</td>\n",
       "      <td>1</td>\n",
       "      <td>1</td>\n",
       "      <td>1</td>\n",
       "      <td>0</td>\n",
       "      <td>...</td>\n",
       "      <td>0</td>\n",
       "      <td>0</td>\n",
       "      <td>0</td>\n",
       "      <td>0</td>\n",
       "      <td>0</td>\n",
       "      <td>0</td>\n",
       "      <td>0</td>\n",
       "      <td>0</td>\n",
       "      <td>0</td>\n",
       "      <td>0</td>\n",
       "    </tr>\n",
       "  </tbody>\n",
       "</table>\n",
       "<p>5 rows × 41 columns</p>\n",
       "</div>"
      ],
      "text/plain": [
       "   book_id                      authors  original_publication_year  \\\n",
       "0        1              Suzanne Collins                     2008.0   \n",
       "1        2  J.K. Rowling, Mary GrandPré                     1997.0   \n",
       "2        3              Stephenie Meyer                     2005.0   \n",
       "3        4                   Harper Lee                     1960.0   \n",
       "4        5          F. Scott Fitzgerald                     1925.0   \n",
       "\n",
       "                                               title language_code  1  2  3  \\\n",
       "0            The Hunger Games (The Hunger Games, #1)           eng  1  1  1   \n",
       "1  Harry Potter and the Sorcerer's Stone (Harry P...           eng  1  1  1   \n",
       "2                            Twilight (Twilight, #1)         en-US  1  1  1   \n",
       "3                              To Kill a Mockingbird           eng  0  1  1   \n",
       "4                                   The Great Gatsby           eng  0  1  1   \n",
       "\n",
       "   4  5  ...  27  28  29  30  31  32  33  34  35  36  \n",
       "0  0  0  ...   0   0   0   0   0   0   0   0   0   0  \n",
       "1  1  1  ...   0   0   0   0   0   0   0   0   0   0  \n",
       "2  0  1  ...   0   0   0   0   1   0   0   0   0   0  \n",
       "3  1  0  ...   0   0   0   0   0   0   0   0   0   0  \n",
       "4  1  0  ...   0   0   0   0   0   0   0   0   0   0  \n",
       "\n",
       "[5 rows x 41 columns]"
      ]
     },
     "execution_count": 10,
     "metadata": {
      "tags": []
     },
     "output_type": "execute_result"
    }
   ],
   "source": [
    "new_df = pd.concat([mapping, temp], axis=1)\n",
    "new_df = new_df.drop(['tag_id'], axis=1)\n",
    "with_info = pd.merge(book_df, new_df, on='book_id')\n",
    "with_info = with_info.drop('goodreads_book_id', axis=1)\n",
    "with_info.head()"
   ]
  },
  {
   "cell_type": "code",
   "execution_count": null,
   "metadata": {
    "id": "6c79b52f"
   },
   "outputs": [],
   "source": [
    "tag_name = defaultdict(str)\n",
    "for i in range(1,len(tag_df)+1):\n",
    "    tag_name[i] = tag_df.loc[i-1]['genre']\n",
    "    \n",
    "with_info.rename(columns=tag_name, inplace=True)\n",
    "with_info.to_csv('/content/gdrive/MyDrive/RecSys Project 2/goodbooks-10k-dataset/book_info_tag.csv')"
   ]
  },
  {
   "cell_type": "markdown",
   "metadata": {
    "id": "7b167fce"
   },
   "source": [
    "#### Visualise latent factor"
   ]
  },
  {
   "cell_type": "code",
   "execution_count": null,
   "metadata": {
    "id": "eea6d848"
   },
   "outputs": [],
   "source": [
    "item_df = pd.read_csv('/content/gdrive/MyDrive/RecSys Project 2/goodbooks-10k-dataset/book_info_tag.csv' )"
   ]
  },
  {
   "cell_type": "code",
   "execution_count": null,
   "metadata": {
    "id": "65120325",
    "outputId": "ac565ad1-55c8-4c9c-9e73-2f440be9573b"
   },
   "outputs": [
    {
     "data": {
      "text/html": [
       "<div>\n",
       "<style scoped>\n",
       "    .dataframe tbody tr th:only-of-type {\n",
       "        vertical-align: middle;\n",
       "    }\n",
       "\n",
       "    .dataframe tbody tr th {\n",
       "        vertical-align: top;\n",
       "    }\n",
       "\n",
       "    .dataframe thead th {\n",
       "        text-align: right;\n",
       "    }\n",
       "</style>\n",
       "<table border=\"1\" class=\"dataframe\">\n",
       "  <thead>\n",
       "    <tr style=\"text-align: right;\">\n",
       "      <th></th>\n",
       "      <th>Unnamed: 0</th>\n",
       "      <th>book_id</th>\n",
       "      <th>authors</th>\n",
       "      <th>original_publication_year</th>\n",
       "      <th>title</th>\n",
       "      <th>language_code</th>\n",
       "      <th>fantasy</th>\n",
       "      <th>young adult</th>\n",
       "      <th>fiction</th>\n",
       "      <th>classics</th>\n",
       "      <th>...</th>\n",
       "      <th>comics</th>\n",
       "      <th>business</th>\n",
       "      <th>psychology</th>\n",
       "      <th>music</th>\n",
       "      <th>chick lit</th>\n",
       "      <th>manga</th>\n",
       "      <th>christian</th>\n",
       "      <th>cookbooks</th>\n",
       "      <th>gay and lesbian</th>\n",
       "      <th>humor and comedy</th>\n",
       "    </tr>\n",
       "  </thead>\n",
       "  <tbody>\n",
       "    <tr>\n",
       "      <th>0</th>\n",
       "      <td>0</td>\n",
       "      <td>1</td>\n",
       "      <td>Suzanne Collins</td>\n",
       "      <td>2008.0</td>\n",
       "      <td>The Hunger Games (The Hunger Games, #1)</td>\n",
       "      <td>eng</td>\n",
       "      <td>1</td>\n",
       "      <td>1</td>\n",
       "      <td>1</td>\n",
       "      <td>0</td>\n",
       "      <td>...</td>\n",
       "      <td>0</td>\n",
       "      <td>0</td>\n",
       "      <td>0</td>\n",
       "      <td>0</td>\n",
       "      <td>0</td>\n",
       "      <td>0</td>\n",
       "      <td>0</td>\n",
       "      <td>0</td>\n",
       "      <td>0</td>\n",
       "      <td>0</td>\n",
       "    </tr>\n",
       "    <tr>\n",
       "      <th>1</th>\n",
       "      <td>1</td>\n",
       "      <td>2</td>\n",
       "      <td>J.K. Rowling, Mary GrandPré</td>\n",
       "      <td>1997.0</td>\n",
       "      <td>Harry Potter and the Sorcerer's Stone (Harry P...</td>\n",
       "      <td>eng</td>\n",
       "      <td>1</td>\n",
       "      <td>1</td>\n",
       "      <td>1</td>\n",
       "      <td>1</td>\n",
       "      <td>...</td>\n",
       "      <td>0</td>\n",
       "      <td>0</td>\n",
       "      <td>0</td>\n",
       "      <td>0</td>\n",
       "      <td>0</td>\n",
       "      <td>0</td>\n",
       "      <td>0</td>\n",
       "      <td>0</td>\n",
       "      <td>0</td>\n",
       "      <td>0</td>\n",
       "    </tr>\n",
       "    <tr>\n",
       "      <th>2</th>\n",
       "      <td>2</td>\n",
       "      <td>3</td>\n",
       "      <td>Stephenie Meyer</td>\n",
       "      <td>2005.0</td>\n",
       "      <td>Twilight (Twilight, #1)</td>\n",
       "      <td>en-US</td>\n",
       "      <td>1</td>\n",
       "      <td>1</td>\n",
       "      <td>1</td>\n",
       "      <td>0</td>\n",
       "      <td>...</td>\n",
       "      <td>0</td>\n",
       "      <td>0</td>\n",
       "      <td>0</td>\n",
       "      <td>0</td>\n",
       "      <td>1</td>\n",
       "      <td>0</td>\n",
       "      <td>0</td>\n",
       "      <td>0</td>\n",
       "      <td>0</td>\n",
       "      <td>0</td>\n",
       "    </tr>\n",
       "    <tr>\n",
       "      <th>3</th>\n",
       "      <td>3</td>\n",
       "      <td>4</td>\n",
       "      <td>Harper Lee</td>\n",
       "      <td>1960.0</td>\n",
       "      <td>To Kill a Mockingbird</td>\n",
       "      <td>eng</td>\n",
       "      <td>0</td>\n",
       "      <td>1</td>\n",
       "      <td>1</td>\n",
       "      <td>1</td>\n",
       "      <td>...</td>\n",
       "      <td>0</td>\n",
       "      <td>0</td>\n",
       "      <td>0</td>\n",
       "      <td>0</td>\n",
       "      <td>0</td>\n",
       "      <td>0</td>\n",
       "      <td>0</td>\n",
       "      <td>0</td>\n",
       "      <td>0</td>\n",
       "      <td>0</td>\n",
       "    </tr>\n",
       "    <tr>\n",
       "      <th>4</th>\n",
       "      <td>4</td>\n",
       "      <td>5</td>\n",
       "      <td>F. Scott Fitzgerald</td>\n",
       "      <td>1925.0</td>\n",
       "      <td>The Great Gatsby</td>\n",
       "      <td>eng</td>\n",
       "      <td>0</td>\n",
       "      <td>1</td>\n",
       "      <td>1</td>\n",
       "      <td>1</td>\n",
       "      <td>...</td>\n",
       "      <td>0</td>\n",
       "      <td>0</td>\n",
       "      <td>0</td>\n",
       "      <td>0</td>\n",
       "      <td>0</td>\n",
       "      <td>0</td>\n",
       "      <td>0</td>\n",
       "      <td>0</td>\n",
       "      <td>0</td>\n",
       "      <td>0</td>\n",
       "    </tr>\n",
       "  </tbody>\n",
       "</table>\n",
       "<p>5 rows × 42 columns</p>\n",
       "</div>"
      ],
      "text/plain": [
       "   Unnamed: 0  book_id                      authors  \\\n",
       "0           0        1              Suzanne Collins   \n",
       "1           1        2  J.K. Rowling, Mary GrandPré   \n",
       "2           2        3              Stephenie Meyer   \n",
       "3           3        4                   Harper Lee   \n",
       "4           4        5          F. Scott Fitzgerald   \n",
       "\n",
       "   original_publication_year  \\\n",
       "0                     2008.0   \n",
       "1                     1997.0   \n",
       "2                     2005.0   \n",
       "3                     1960.0   \n",
       "4                     1925.0   \n",
       "\n",
       "                                               title language_code  fantasy  \\\n",
       "0            The Hunger Games (The Hunger Games, #1)           eng        1   \n",
       "1  Harry Potter and the Sorcerer's Stone (Harry P...           eng        1   \n",
       "2                            Twilight (Twilight, #1)         en-US        1   \n",
       "3                              To Kill a Mockingbird           eng        0   \n",
       "4                                   The Great Gatsby           eng        0   \n",
       "\n",
       "   young adult  fiction  classics  ...  comics  business  psychology  music  \\\n",
       "0            1        1         0  ...       0         0           0      0   \n",
       "1            1        1         1  ...       0         0           0      0   \n",
       "2            1        1         0  ...       0         0           0      0   \n",
       "3            1        1         1  ...       0         0           0      0   \n",
       "4            1        1         1  ...       0         0           0      0   \n",
       "\n",
       "   chick lit  manga  christian  cookbooks  gay and lesbian  humor and comedy  \n",
       "0          0      0          0          0                0                 0  \n",
       "1          0      0          0          0                0                 0  \n",
       "2          1      0          0          0                0                 0  \n",
       "3          0      0          0          0                0                 0  \n",
       "4          0      0          0          0                0                 0  \n",
       "\n",
       "[5 rows x 42 columns]"
      ]
     },
     "execution_count": 85,
     "metadata": {
      "tags": []
     },
     "output_type": "execute_result"
    }
   ],
   "source": [
    "item_df.head()"
   ]
  },
  {
   "cell_type": "code",
   "execution_count": null,
   "metadata": {
    "id": "281990c2",
    "outputId": "e44aa32b-e0b2-4406-b8b9-165f36a14f60",
    "scrolled": true
   },
   "outputs": [
    {
     "data": {
      "image/png": "[encoded data removed]",
      "text/plain": [
       "<Figure size 7200x720 with 1 Axes>"
      ]
     },
     "metadata": {
      "needs_background": "light",
      "tags": []
     },
     "output_type": "display_data"
    }
   ],
   "source": [
    "var_df = pd.DataFrame({\"Factor\": np.arange(K), \"Variance\": np.var(bpr.i_factors, axis=0)})\n",
    "fig, ax = plt.subplots(figsize=(100, 10))\n",
    "sns.barplot(x=\"Factor\", y=\"Variance\", data=var_df, palette=\"ch:.25\", ax=ax);"
   ]
  },
  {
   "cell_type": "code",
   "execution_count": null,
   "metadata": {
    "id": "8b4f6415",
    "outputId": "db71429d-01a8-4d14-c5a3-b7008cd5172d"
   },
   "outputs": [
    {
     "data": {
      "image/png": "[encoded data removed]",
      "text/plain": [
       "<Figure size 792x792 with 1 Axes>"
      ]
     },
     "metadata": {
      "needs_background": "light",
      "tags": []
     },
     "output_type": "display_data"
    }
   ],
   "source": [
    "# title\n",
    "TOP2F = (114, 138)\n",
    "SAMPLE_SIZE = 20\n",
    "\n",
    "rng = np.random.RandomState(SEED)\n",
    "sample_inds = rng.choice(np.arange(bpr.i_factors.shape[0]), size=SAMPLE_SIZE, replace=False)-500\n",
    "sample_df = pd.DataFrame(data=bpr.i_factors[sample_inds][:, TOP2F], columns=[\"x\", \"y\"])\n",
    "\n",
    "sns.lmplot(x=\"x\", y=\"y\", data=sample_df, height=11.0, fit_reg=False)\n",
    "item_idx2id = list(bpr.train_set.item_ids)\n",
    "titles = item_df.loc[[int(item_idx2id[i]) for i in sample_inds]][\"title\"].values\n",
    "adjust_text(\n",
    "  [plt.text(*sample_df.loc[i].values, titles[i], size=10) for i in range(len(titles))]\n",
    ");"
   ]
  },
  {
   "cell_type": "code",
   "execution_count": null,
   "metadata": {
    "id": "20b1ae9a",
    "outputId": "5b99dc6c-f3ab-4f6d-d84f-55e07b757872"
   },
   "outputs": [
    {
     "data": {
      "image/png": "[encoded data removed]",
      "text/plain": [
       "<Figure size 792x792 with 1 Axes>"
      ]
     },
     "metadata": {
      "needs_background": "light",
      "tags": []
     },
     "output_type": "display_data"
    }
   ],
   "source": [
    "# author\n",
    "TOP2F = (114, 138)\n",
    "SAMPLE_SIZE = 30\n",
    "\n",
    "rng = np.random.RandomState(SEED)\n",
    "sample_inds = rng.choice(np.arange(bpr.i_factors.shape[0]), size=SAMPLE_SIZE, replace=False)+100\n",
    "sample_df = pd.DataFrame(data=bpr.i_factors[sample_inds][:, TOP2F], columns=[\"x\", \"y\"])\n",
    "\n",
    "sns.lmplot(x=\"x\", y=\"y\", data=sample_df, height=11.0, fit_reg=False)\n",
    "item_idx2id = list(bpr.train_set.item_ids)\n",
    "titles = item_df.loc[[int(item_idx2id[i]) for i in sample_inds]][\"authors\"].values\n",
    "adjust_text(\n",
    "  [plt.text(*sample_df.loc[i].values, titles[i], size=10) for i in range(len(titles))]\n",
    ");"
   ]
  },
  {
   "cell_type": "code",
   "execution_count": null,
   "metadata": {
    "id": "66889edb",
    "outputId": "e8837f35-5415-41dd-a782-d580d6137a93"
   },
   "outputs": [
    {
     "data": {
      "image/png": "[encoded data removed]",
      "text/plain": [
       "<Figure size 792x792 with 1 Axes>"
      ]
     },
     "metadata": {
      "needs_background": "light",
      "tags": []
     },
     "output_type": "display_data"
    }
   ],
   "source": [
    "# genre\n",
    "TOP2F = (114, 138)\n",
    "SAMPLE_SIZE = 50\n",
    "\n",
    "rng = np.random.RandomState(SEED)\n",
    "sample_inds = rng.choice(np.arange(bpr.i_factors.shape[0]), size=SAMPLE_SIZE, replace=False)\n",
    "sample_df = pd.DataFrame(data=bpr.i_factors[sample_inds][:, TOP2F], columns=[\"x\", \"y\"])+60\n",
    "\n",
    "sns.lmplot(x=\"x\", y=\"y\", data=sample_df, height=11.0, fit_reg=False)\n",
    "item_idx2id = list(bpr.train_set.item_ids)\n",
    "titles = item_df.loc[[int(item_idx2id[i]) for i in sample_inds]][\"history\"].values\n",
    "adjust_text(\n",
    "  [plt.text(*sample_df.loc[i].values, titles[i], size=10) for i in range(len(titles))]\n",
    ");"
   ]
  },
  {
   "cell_type": "markdown",
   "metadata": {
    "id": "6dc12c72"
   },
   "source": [
    "#### Print out top 20 books by baseline most top"
   ]
  },
  {
   "cell_type": "code",
   "execution_count": null,
   "metadata": {
    "id": "59599ce6"
   },
   "outputs": [],
   "source": [
    "top20 = [1, 2, 4, 3, 5, 17, 20, 18, 23, 7, 24, 25, 21, 27, 13, 8, 16, 14, 28, 9]\n",
    "top_df = with_info[with_info['book_id'].isin(top20)][['book_id', 'authors', 'original_publication_year', 'title', 'language_code']]\n",
    "top_df['rank'] = top_df['book_id'].apply(lambda x: top20.index(x))\n",
    "top_df = top_df.sort_values('rank')\n",
    "top_df = top_df.drop('rank', axis=1)\n",
    "top_df = top_df.reset_index().drop('index', axis=1)\n",
    "top_df"
   ]
  },
  {
   "cell_type": "code",
   "execution_count": null,
   "metadata": {
    "id": "b5759658"
   },
   "outputs": [],
   "source": []
  },
  {
   "cell_type": "markdown",
   "metadata": {
    "id": "a29f0ecd"
   },
   "source": [
    "#### Experiment on libfm, use tag as extra context"
   ]
  },
  {
   "cell_type": "code",
   "execution_count": null,
   "metadata": {
    "id": "323fd723"
   },
   "outputs": [],
   "source": [
    "n_users = r.user_id.nunique()\n",
    "n_books = r.book_id.nunique()\n",
    "n_tags = tag_df.tag_id.nunique()"
   ]
  },
  {
   "cell_type": "code",
   "execution_count": null,
   "metadata": {
    "id": "1dee79a6"
   },
   "outputs": [],
   "source": [
    "user_id2idx = rs.global_uid_map\n",
    "book_id2idx = rs.global_iid_map\n",
    "\n",
    "tag_id2idx = defaultdict()\n",
    "for name, tagid in tag_df.itertuples(index=False):\n",
    "    tag_id2idx.setdefault(tagid, len(tag_id2idx))\n",
    "    \n",
    "assert len(tag_id2idx) == n_tags"
   ]
  },
  {
   "cell_type": "code",
   "execution_count": null,
   "metadata": {
    "id": "dacbd975"
   },
   "outputs": [],
   "source": [
    "train_set_df = pd.DataFrame(rs.train_set.uir_tuple[0], columns=['user_id'])\n",
    "train_set_df['book_id'] = rs.train_set.uir_tuple[1]\n",
    "train_set_df['rating'] = rs.train_set.uir_tuple[2]\n",
    "\n",
    "val_set_df = pd.DataFrame(rs.val_set.uir_tuple[0], columns=['user_id'])\n",
    "val_set_df['book_id'] = rs.val_set.uir_tuple[1]\n",
    "val_set_df['rating'] = rs.val_set.uir_tuple[2]\n",
    "\n",
    "test_set_df = pd.DataFrame(rs.test_set.uir_tuple[0], columns=['user_id'])\n",
    "test_set_df['book_id'] = rs.test_set.uir_tuple[1]\n",
    "test_set_df['rating'] = rs.test_set.uir_tuple[2]"
   ]
  },
  {
   "cell_type": "code",
   "execution_count": null,
   "metadata": {
    "id": "61c6db13"
   },
   "outputs": [],
   "source": [
    "def to_fm_sparse_fmt_test(rating, uid, mid, tags):\n",
    "    # order of features: user, movie, tags\n",
    "    user_start_idx = 0\n",
    "    book_start_idx = n_users\n",
    "    tag_start_idx = book_start_idx + n_books\n",
    "    return \"{} {}:1 {}:1 {}\\n\".format(\n",
    "        rating,\n",
    "        uid,\n",
    "        mid + book_start_idx, \n",
    "        \" \".join(\"{}:1\".format(tag_id2idx[t] + tag_start_idx) for t in tags)\n",
    "  ) "
   ]
  },
  {
   "cell_type": "code",
   "execution_count": null,
   "metadata": {
    "id": "483287a0"
   },
   "outputs": [],
   "source": [
    "# save train data to file\n",
    "with open(\"train_v2.libfm\", \"w\") as f:\n",
    "    for uid, bid, rating in train_set_df.itertuples(index=False):\n",
    "        f.write(to_fm_sparse_fmt_test(rating, uid, bid, mapping.loc[int(list(book_id2idx.keys())[bid])]['tag_id']))   \n",
    "\n",
    "# save val data to file\n",
    "with open(\"val_v2.libfm\", \"w\") as f:\n",
    "    for uid, bid, rating in val_set_df.itertuples(index=False):\n",
    "        f.write(to_fm_sparse_fmt_test(rating, uid, bid, mapping.loc[int(list(book_id2idx.keys())[bid])]['tag_id']))   \n",
    "        \n",
    "# save test data to file\n",
    "with open(\"test_v2.libfm\", \"w\") as f:\n",
    "    for uid, bid, rating in test_set_df.itertuples(index=False):\n",
    "        f.write(to_fm_sparse_fmt_test(rating, uid, bid, mapping.loc[int(list(book_id2idx.keys())[bid])]['tag_id'])) "
   ]
  },
  {
   "cell_type": "code",
   "execution_count": null,
   "metadata": {
    "id": "2a3686c9"
   },
   "outputs": [],
   "source": [
    "!git clone https://github.com/srendle/libfm.git\n",
    "!make all -C libfm"
   ]
  },
  {
   "cell_type": "code",
   "execution_count": null,
   "metadata": {
    "id": "b1a146c2"
   },
   "outputs": [],
   "source": [
    "!head train.libfm"
   ]
  },
  {
   "cell_type": "code",
   "execution_count": null,
   "metadata": {
    "id": "1fbaae73"
   },
   "outputs": [],
   "source": [
    "!head test.libfm"
   ]
  },
  {
   "cell_type": "code",
   "execution_count": null,
   "metadata": {
    "id": "804005ff"
   },
   "outputs": [],
   "source": [
    "!./libfm/bin/libFM"
   ]
  },
  {
   "cell_type": "code",
   "execution_count": null,
   "metadata": {
    "id": "b0fab6a4"
   },
   "outputs": [],
   "source": [
    "!./libfm/bin/libFM -task r -train train_v2.libfm -validation val_v2.libfm -test test_v2.libfm -seed $SEED -dim \"1,1,200\" -iter 10 -method 'sgda' -regular '0.1,0.1,0.1' -learn_rate 0.01 -out output.csv -save_model model2"
   ]
  },
  {
   "cell_type": "code",
   "execution_count": null,
   "metadata": {
    "id": "9cf16463"
   },
   "outputs": [],
   "source": []
  }
 ],
 "metadata": {
  "colab": {
   "collapsed_sections": [],
   "name": "WMF, BPR, LIBFM.ipynb",
   "provenance": []
  },
  "kernelspec": {
   "display_name": "Python 3 (ipykernel)",
   "language": "python",
   "name": "python3"
  },
  "language_info": {
   "codemirror_mode": {
    "name": "ipython",
    "version": 3
   },
   "file_extension": ".py",
   "mimetype": "text/x-python",
   "name": "python",
   "nbconvert_exporter": "python",
   "pygments_lexer": "ipython3",
   "version": "3.7.3"
  }
 },
 "nbformat": 4,
 "nbformat_minor": 5
}
